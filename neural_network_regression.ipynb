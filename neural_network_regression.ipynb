{
  "nbformat": 4,
  "nbformat_minor": 0,
  "metadata": {
    "colab": {
      "provenance": [],
      "collapsed_sections": []
    },
    "kernelspec": {
      "name": "python3",
      "display_name": "Python 3"
    },
    "language_info": {
      "name": "python"
    }
  },
  "cells": [
    {
      "cell_type": "code",
      "source": [
        "import tensorflow as tf\n",
        "print(tf.__version__)"
      ],
      "metadata": {
        "colab": {
          "base_uri": "https://localhost:8080/"
        },
        "id": "slyzzGPWPPc6",
        "outputId": "8b42ce1f-d39d-4922-bf1b-b5cbc67d11ed"
      },
      "execution_count": null,
      "outputs": [
        {
          "output_type": "stream",
          "name": "stdout",
          "text": [
            "2.8.2\n"
          ]
        }
      ]
    },
    {
      "cell_type": "code",
      "source": [
        "import numpy as np\n",
        "import matplotlib.pyplot as plt\n",
        "\n",
        "X = np.array([10,12,14,16,18,20])\n",
        "y = np.array([20,22,24,26,28,30])\n",
        "\n",
        "plt.scatter(X,y)"
      ],
      "metadata": {
        "colab": {
          "base_uri": "https://localhost:8080/",
          "height": 282
        },
        "id": "zkmIkwM5Pa8W",
        "outputId": "6c0dee39-d4bf-462c-887d-845818a1cf2e"
      },
      "execution_count": null,
      "outputs": [
        {
          "output_type": "execute_result",
          "data": {
            "text/plain": [
              "<matplotlib.collections.PathCollection at 0x7f2c333c1f90>"
            ]
          },
          "metadata": {},
          "execution_count": 2
        },
        {
          "output_type": "display_data",
          "data": {
            "text/plain": [
              "<Figure size 432x288 with 1 Axes>"
            ],
            "image/png": "[encoded data removed]"
          },
          "metadata": {
            "needs_background": "light"
          }
        }
      ]
    },
    {
      "cell_type": "code",
      "source": [
        "#Turn numpy arrays into tensors\n",
        "X = tf.cast(tf.constant(X),dtype = tf.float32)\n",
        "y = tf.cast(tf.constant(y),dtype = tf.float32)\n",
        "X,y"
      ],
      "metadata": {
        "colab": {
          "base_uri": "https://localhost:8080/"
        },
        "id": "hl1DQtyrQBNL",
        "outputId": "cbcd9487-c1e1-42bd-ce85-380e1c6be178"
      },
      "execution_count": null,
      "outputs": [
        {
          "output_type": "execute_result",
          "data": {
            "text/plain": [
              "(<tf.Tensor: shape=(6,), dtype=float32, numpy=array([10., 12., 14., 16., 18., 20.], dtype=float32)>,\n",
              " <tf.Tensor: shape=(6,), dtype=float32, numpy=array([20., 22., 24., 26., 28., 30.], dtype=float32)>)"
            ]
          },
          "metadata": {},
          "execution_count": 3
        }
      ]
    },
    {
      "cell_type": "markdown",
      "source": [
        "## Steps in modeling with Tensorflow\n",
        "\n",
        "1 - Creating a model\n",
        "\n",
        "*   Define the input and output layers\n",
        "\n",
        "2 - Compiling a model\n",
        "\n",
        "*   Loss function\n",
        "*   Optimizer\n",
        "*   Evaluation metrics\n",
        "\n",
        "3- Fitting a model\n",
        "\n",
        "*   Find patterns\n"
      ],
      "metadata": {
        "id": "jR1nNKdxS9qI"
      }
    },
    {
      "cell_type": "code",
      "source": [
        "# Set random seed\n",
        "tf.random.set_seed(42)\n",
        "\n",
        "# Create a model using the Sequential API\n",
        "model = tf.keras.Sequential()\n",
        "model.add(tf.keras.layers.Dense(1))\n",
        "\n",
        "# Compile the model\n",
        "model.compile(loss=tf.keras.losses.mae, # loss = mean(abs(y_true - y_pred), axis=-1)\n",
        "              optimizer=tf.keras.optimizers.SGD(),\n",
        "              metrics=[\"mae\"])\n",
        "\n",
        "# Fit the model\n",
        "# model.fit(X, y, epochs=5) # this will break with TensorFlow 2.7.0+\n",
        "model.fit(tf.expand_dims(X, axis=-1), y, epochs=7)"
      ],
      "metadata": {
        "colab": {
          "base_uri": "https://localhost:8080/",
          "height": 235
        },
        "id": "levY_nVyUPBA",
        "outputId": "6227f4fc-ca1e-42b3-daf1-a65a8003a513"
      },
      "execution_count": null,
      "outputs": [
        {
          "output_type": "error",
          "ename": "NameError",
          "evalue": "ignored",
          "traceback": [
            "\u001b[0;31m---------------------------------------------------------------------------\u001b[0m",
            "\u001b[0;31mNameError\u001b[0m                                 Traceback (most recent call last)",
            "\u001b[0;32m<ipython-input-1-351d3bcf2eeb>\u001b[0m in \u001b[0;36m<module>\u001b[0;34m\u001b[0m\n\u001b[1;32m      1\u001b[0m \u001b[0;31m# Set random seed\u001b[0m\u001b[0;34m\u001b[0m\u001b[0;34m\u001b[0m\u001b[0;34m\u001b[0m\u001b[0m\n\u001b[0;32m----> 2\u001b[0;31m \u001b[0mtf\u001b[0m\u001b[0;34m.\u001b[0m\u001b[0mrandom\u001b[0m\u001b[0;34m.\u001b[0m\u001b[0mset_seed\u001b[0m\u001b[0;34m(\u001b[0m\u001b[0;36m42\u001b[0m\u001b[0;34m)\u001b[0m\u001b[0;34m\u001b[0m\u001b[0;34m\u001b[0m\u001b[0m\n\u001b[0m\u001b[1;32m      3\u001b[0m \u001b[0;34m\u001b[0m\u001b[0m\n\u001b[1;32m      4\u001b[0m \u001b[0;31m# Create a model using the Sequential API\u001b[0m\u001b[0;34m\u001b[0m\u001b[0;34m\u001b[0m\u001b[0;34m\u001b[0m\u001b[0m\n\u001b[1;32m      5\u001b[0m \u001b[0mmodel\u001b[0m \u001b[0;34m=\u001b[0m \u001b[0mtf\u001b[0m\u001b[0;34m.\u001b[0m\u001b[0mkeras\u001b[0m\u001b[0;34m.\u001b[0m\u001b[0mSequential\u001b[0m\u001b[0;34m(\u001b[0m\u001b[0;34m)\u001b[0m\u001b[0;34m\u001b[0m\u001b[0;34m\u001b[0m\u001b[0m\n",
            "\u001b[0;31mNameError\u001b[0m: name 'tf' is not defined"
          ]
        }
      ]
    },
    {
      "cell_type": "code",
      "source": [
        "y_pred = model.predict([12])\n",
        "y_pred"
      ],
      "metadata": {
        "id": "EI0q2WvYW0Ow"
      },
      "execution_count": null,
      "outputs": []
    },
    {
      "cell_type": "markdown",
      "source": [
        "## Improve Model"
      ],
      "metadata": {
        "id": "ZXtiq2VEZTan"
      }
    },
    {
      "cell_type": "code",
      "source": [
        "model = tf.keras.Sequential([\n",
        "    tf.keras.layers.Dense(1)\n",
        "])\n",
        "\n",
        "model.compile(loss = tf.keras.losses.mae,\n",
        "              optimizer=tf.keras.optimizers.SGD(),\n",
        "              metrics=[\"mae\"])\n",
        "\n",
        "# Fit the model\n",
        "# model.fit(X, y, epochs=5) # this will break with TensorFlow 2.7.0+\n",
        "model.fit(tf.expand_dims(X, axis=-1), y, epochs=100,verbose = 0)"
      ],
      "metadata": {
        "id": "luX1j07HwYpE",
        "colab": {
          "base_uri": "https://localhost:8080/"
        },
        "outputId": "04fd0c38-3780-4ae8-d839-3bba6c5a5ca1"
      },
      "execution_count": null,
      "outputs": [
        {
          "output_type": "execute_result",
          "data": {
            "text/plain": [
              "<keras.callbacks.History at 0x7f2c2d85afd0>"
            ]
          },
          "metadata": {},
          "execution_count": 6
        }
      ]
    },
    {
      "cell_type": "code",
      "source": [
        "y_pred = model.predict([12])\n",
        "y_pred"
      ],
      "metadata": {
        "colab": {
          "base_uri": "https://localhost:8080/"
        },
        "id": "ObQg8Myk2GNJ",
        "outputId": "df3bd061-fc9e-4dc7-b6e4-a5c092708051"
      },
      "execution_count": null,
      "outputs": [
        {
          "output_type": "execute_result",
          "data": {
            "text/plain": [
              "array([[19.650492]], dtype=float32)"
            ]
          },
          "metadata": {},
          "execution_count": 7
        }
      ]
    },
    {
      "cell_type": "code",
      "source": [
        "model = tf.keras.Sequential([\n",
        "    tf.keras.layers.Dense(100, activation =\"relu\"),\n",
        "    tf.keras.layers.Dense(1)\n",
        "\n",
        "])\n",
        "\n",
        "model.compile(loss = tf.keras.losses.mae,\n",
        "              optimizer=tf.keras.optimizers.SGD(),\n",
        "              #optimizer=tf.keras.optimizers.Adam(),\n",
        "              metrics=[\"mae\"])\n",
        "\n",
        "# Fit the model\n",
        "# model.fit(X, y, epochs=5) # this will break with TensorFlow 2.7.0+\n",
        "model.fit(tf.expand_dims(X, axis=-1), y, epochs=100,verbose = 0)"
      ],
      "metadata": {
        "id": "i_Q8xcp027fc",
        "colab": {
          "base_uri": "https://localhost:8080/"
        },
        "outputId": "425b3f89-1c94-40e0-9ad2-190b167fb18a"
      },
      "execution_count": null,
      "outputs": [
        {
          "output_type": "execute_result",
          "data": {
            "text/plain": [
              "<keras.callbacks.History at 0x7f2c2ef4af50>"
            ]
          },
          "metadata": {},
          "execution_count": 8
        }
      ]
    },
    {
      "cell_type": "code",
      "source": [
        "model.predict([12])\n"
      ],
      "metadata": {
        "colab": {
          "base_uri": "https://localhost:8080/"
        },
        "id": "XzGEEHmh3Wsf",
        "outputId": "e5078b16-09f3-4aa6-d529-1ee29046ae84"
      },
      "execution_count": null,
      "outputs": [
        {
          "output_type": "execute_result",
          "data": {
            "text/plain": [
              "array([[21.91981]], dtype=float32)"
            ]
          },
          "metadata": {},
          "execution_count": 9
        }
      ]
    },
    {
      "cell_type": "code",
      "source": [
        "model = tf.keras.Sequential([\n",
        "    tf.keras.layers.Dense(100, activation =\"relu\"),\n",
        "    tf.keras.layers.Dense(1)\n",
        "\n",
        "])\n",
        "\n",
        "model.compile(loss = tf.keras.losses.mae,\n",
        "              #optimizer=tf.keras.optimizers.SGD(),\n",
        "              optimizer=tf.keras.optimizers.Adam(lr=0.01),\n",
        "              metrics=[\"mae\"])\n",
        "\n",
        "# Fit the model\n",
        "# model.fit(X, y, epochs=5) # this will break with TensorFlow 2.7.0+\n",
        "model.fit(tf.expand_dims(X, axis=-1), y, epochs=100)"
      ],
      "metadata": {
        "id": "E7_8knJ13Z1c",
        "colab": {
          "base_uri": "https://localhost:8080/"
        },
        "outputId": "e609b28b-d091-46ce-e393-ce83af8b7f07"
      },
      "execution_count": null,
      "outputs": [
        {
          "output_type": "stream",
          "name": "stderr",
          "text": [
            "/usr/local/lib/python3.7/dist-packages/keras/optimizer_v2/adam.py:105: UserWarning: The `lr` argument is deprecated, use `learning_rate` instead.\n",
            "  super(Adam, self).__init__(name, **kwargs)\n"
          ]
        },
        {
          "output_type": "stream",
          "name": "stdout",
          "text": [
            "Epoch 1/100\n",
            "1/1 [==============================] - 1s 1s/step - loss: 22.7294 - mae: 22.7294\n",
            "Epoch 2/100\n",
            "1/1 [==============================] - 0s 19ms/step - loss: 20.9166 - mae: 20.9166\n",
            "Epoch 3/100\n",
            "1/1 [==============================] - 0s 25ms/step - loss: 19.1237 - mae: 19.1237\n",
            "Epoch 4/100\n",
            "1/1 [==============================] - 0s 18ms/step - loss: 17.3288 - mae: 17.3288\n",
            "Epoch 5/100\n",
            "1/1 [==============================] - 0s 18ms/step - loss: 15.5110 - mae: 15.5110\n",
            "Epoch 6/100\n",
            "1/1 [==============================] - 0s 14ms/step - loss: 13.6543 - mae: 13.6543\n",
            "Epoch 7/100\n",
            "1/1 [==============================] - 0s 17ms/step - loss: 11.7664 - mae: 11.7664\n",
            "Epoch 8/100\n",
            "1/1 [==============================] - 0s 20ms/step - loss: 9.8297 - mae: 9.8297\n",
            "Epoch 9/100\n",
            "1/1 [==============================] - 0s 20ms/step - loss: 7.8309 - mae: 7.8309\n",
            "Epoch 10/100\n",
            "1/1 [==============================] - 0s 28ms/step - loss: 5.7616 - mae: 5.7616\n",
            "Epoch 11/100\n",
            "1/1 [==============================] - 0s 13ms/step - loss: 3.6068 - mae: 3.6068\n",
            "Epoch 12/100\n",
            "1/1 [==============================] - 0s 13ms/step - loss: 1.8435 - mae: 1.8435\n",
            "Epoch 13/100\n",
            "1/1 [==============================] - 0s 12ms/step - loss: 2.0136 - mae: 2.0136\n",
            "Epoch 14/100\n",
            "1/1 [==============================] - 0s 19ms/step - loss: 2.9470 - mae: 2.9470\n",
            "Epoch 15/100\n",
            "1/1 [==============================] - 0s 57ms/step - loss: 3.8357 - mae: 3.8357\n",
            "Epoch 16/100\n",
            "1/1 [==============================] - 0s 31ms/step - loss: 4.3380 - mae: 4.3380\n",
            "Epoch 17/100\n",
            "1/1 [==============================] - 0s 22ms/step - loss: 4.5290 - mae: 4.5290\n",
            "Epoch 18/100\n",
            "1/1 [==============================] - 0s 20ms/step - loss: 4.3316 - mae: 4.3316\n",
            "Epoch 19/100\n",
            "1/1 [==============================] - 0s 15ms/step - loss: 3.9386 - mae: 3.9386\n",
            "Epoch 20/100\n",
            "1/1 [==============================] - 0s 10ms/step - loss: 3.3695 - mae: 3.3695\n",
            "Epoch 21/100\n",
            "1/1 [==============================] - 0s 9ms/step - loss: 2.6881 - mae: 2.6881\n",
            "Epoch 22/100\n",
            "1/1 [==============================] - 0s 12ms/step - loss: 2.1919 - mae: 2.1919\n",
            "Epoch 23/100\n",
            "1/1 [==============================] - 0s 10ms/step - loss: 1.8360 - mae: 1.8360\n",
            "Epoch 24/100\n",
            "1/1 [==============================] - 0s 17ms/step - loss: 1.7540 - mae: 1.7540\n",
            "Epoch 25/100\n",
            "1/1 [==============================] - 0s 19ms/step - loss: 1.9558 - mae: 1.9558\n",
            "Epoch 26/100\n",
            "1/1 [==============================] - 0s 17ms/step - loss: 2.2681 - mae: 2.2681\n",
            "Epoch 27/100\n",
            "1/1 [==============================] - 0s 13ms/step - loss: 2.5817 - mae: 2.5817\n",
            "Epoch 28/100\n",
            "1/1 [==============================] - 0s 18ms/step - loss: 2.5842 - mae: 2.5842\n",
            "Epoch 29/100\n",
            "1/1 [==============================] - 0s 16ms/step - loss: 2.3062 - mae: 2.3062\n",
            "Epoch 30/100\n",
            "1/1 [==============================] - 0s 13ms/step - loss: 1.9977 - mae: 1.9977\n",
            "Epoch 31/100\n",
            "1/1 [==============================] - 0s 25ms/step - loss: 1.7838 - mae: 1.7838\n",
            "Epoch 32/100\n",
            "1/1 [==============================] - 0s 9ms/step - loss: 1.6990 - mae: 1.6990\n",
            "Epoch 33/100\n",
            "1/1 [==============================] - 0s 20ms/step - loss: 1.7973 - mae: 1.7973\n",
            "Epoch 34/100\n",
            "1/1 [==============================] - 0s 12ms/step - loss: 1.8757 - mae: 1.8757\n",
            "Epoch 35/100\n",
            "1/1 [==============================] - 0s 19ms/step - loss: 1.9843 - mae: 1.9843\n",
            "Epoch 36/100\n",
            "1/1 [==============================] - 0s 12ms/step - loss: 2.0485 - mae: 2.0485\n",
            "Epoch 37/100\n",
            "1/1 [==============================] - 0s 23ms/step - loss: 2.0223 - mae: 2.0223\n",
            "Epoch 38/100\n",
            "1/1 [==============================] - 0s 10ms/step - loss: 1.9146 - mae: 1.9146\n",
            "Epoch 39/100\n",
            "1/1 [==============================] - 0s 14ms/step - loss: 1.8329 - mae: 1.8329\n",
            "Epoch 40/100\n",
            "1/1 [==============================] - 0s 14ms/step - loss: 1.7574 - mae: 1.7574\n",
            "Epoch 41/100\n",
            "1/1 [==============================] - 0s 17ms/step - loss: 1.6772 - mae: 1.6772\n",
            "Epoch 42/100\n",
            "1/1 [==============================] - 0s 13ms/step - loss: 1.7149 - mae: 1.7149\n",
            "Epoch 43/100\n",
            "1/1 [==============================] - 0s 9ms/step - loss: 1.7663 - mae: 1.7663\n",
            "Epoch 44/100\n",
            "1/1 [==============================] - 0s 10ms/step - loss: 1.8036 - mae: 1.8036\n",
            "Epoch 45/100\n",
            "1/1 [==============================] - 0s 10ms/step - loss: 1.8947 - mae: 1.8947\n",
            "Epoch 46/100\n",
            "1/1 [==============================] - 0s 22ms/step - loss: 1.8771 - mae: 1.8771\n",
            "Epoch 47/100\n",
            "1/1 [==============================] - 0s 31ms/step - loss: 1.7830 - mae: 1.7830\n",
            "Epoch 48/100\n",
            "1/1 [==============================] - 0s 38ms/step - loss: 1.7397 - mae: 1.7397\n",
            "Epoch 49/100\n",
            "1/1 [==============================] - 0s 20ms/step - loss: 1.6906 - mae: 1.6906\n",
            "Epoch 50/100\n",
            "1/1 [==============================] - 0s 13ms/step - loss: 1.6359 - mae: 1.6359\n",
            "Epoch 51/100\n",
            "1/1 [==============================] - 0s 25ms/step - loss: 1.6822 - mae: 1.6822\n",
            "Epoch 52/100\n",
            "1/1 [==============================] - 0s 21ms/step - loss: 1.7238 - mae: 1.7238\n",
            "Epoch 53/100\n",
            "1/1 [==============================] - 0s 14ms/step - loss: 1.7485 - mae: 1.7485\n",
            "Epoch 54/100\n",
            "1/1 [==============================] - 0s 20ms/step - loss: 1.7575 - mae: 1.7575\n",
            "Epoch 55/100\n",
            "1/1 [==============================] - 0s 30ms/step - loss: 1.7520 - mae: 1.7520\n",
            "Epoch 56/100\n",
            "1/1 [==============================] - 0s 16ms/step - loss: 1.7334 - mae: 1.7334\n",
            "Epoch 57/100\n",
            "1/1 [==============================] - 0s 13ms/step - loss: 1.7028 - mae: 1.7028\n",
            "Epoch 58/100\n",
            "1/1 [==============================] - 0s 35ms/step - loss: 1.6615 - mae: 1.6615\n",
            "Epoch 59/100\n",
            "1/1 [==============================] - 0s 16ms/step - loss: 1.6105 - mae: 1.6105\n",
            "Epoch 60/100\n",
            "1/1 [==============================] - 0s 16ms/step - loss: 1.6205 - mae: 1.6205\n",
            "Epoch 61/100\n",
            "1/1 [==============================] - 0s 17ms/step - loss: 1.6498 - mae: 1.6498\n",
            "Epoch 62/100\n",
            "1/1 [==============================] - 0s 22ms/step - loss: 1.6655 - mae: 1.6655\n",
            "Epoch 63/100\n",
            "1/1 [==============================] - 0s 21ms/step - loss: 1.6690 - mae: 1.6690\n",
            "Epoch 64/100\n",
            "1/1 [==============================] - 0s 20ms/step - loss: 1.6612 - mae: 1.6612\n",
            "Epoch 65/100\n",
            "1/1 [==============================] - 0s 26ms/step - loss: 1.6433 - mae: 1.6433\n",
            "Epoch 66/100\n",
            "1/1 [==============================] - 0s 18ms/step - loss: 1.6159 - mae: 1.6159\n",
            "Epoch 67/100\n",
            "1/1 [==============================] - 0s 17ms/step - loss: 1.5797 - mae: 1.5797\n",
            "Epoch 68/100\n",
            "1/1 [==============================] - 0s 32ms/step - loss: 1.5684 - mae: 1.5684\n",
            "Epoch 69/100\n",
            "1/1 [==============================] - 0s 22ms/step - loss: 1.5900 - mae: 1.5900\n",
            "Epoch 70/100\n",
            "1/1 [==============================] - 0s 26ms/step - loss: 1.5950 - mae: 1.5950\n",
            "Epoch 71/100\n",
            "1/1 [==============================] - 0s 21ms/step - loss: 1.5848 - mae: 1.5848\n",
            "Epoch 72/100\n",
            "1/1 [==============================] - 0s 28ms/step - loss: 1.5609 - mae: 1.5609\n",
            "Epoch 73/100\n",
            "1/1 [==============================] - 0s 21ms/step - loss: 1.5288 - mae: 1.5288\n",
            "Epoch 74/100\n",
            "1/1 [==============================] - 0s 20ms/step - loss: 1.5379 - mae: 1.5379\n",
            "Epoch 75/100\n",
            "1/1 [==============================] - 0s 24ms/step - loss: 1.5341 - mae: 1.5341\n",
            "Epoch 76/100\n",
            "1/1 [==============================] - 0s 18ms/step - loss: 1.5186 - mae: 1.5186\n",
            "Epoch 77/100\n",
            "1/1 [==============================] - 0s 18ms/step - loss: 1.5229 - mae: 1.5229\n",
            "Epoch 78/100\n",
            "1/1 [==============================] - 0s 24ms/step - loss: 1.5246 - mae: 1.5246\n",
            "Epoch 79/100\n",
            "1/1 [==============================] - 0s 21ms/step - loss: 1.5110 - mae: 1.5110\n",
            "Epoch 80/100\n",
            "1/1 [==============================] - 0s 23ms/step - loss: 1.4988 - mae: 1.4988\n",
            "Epoch 81/100\n",
            "1/1 [==============================] - 0s 19ms/step - loss: 1.4999 - mae: 1.4999\n",
            "Epoch 82/100\n",
            "1/1 [==============================] - 0s 31ms/step - loss: 1.4884 - mae: 1.4884\n",
            "Epoch 83/100\n",
            "1/1 [==============================] - 0s 26ms/step - loss: 1.4878 - mae: 1.4878\n",
            "Epoch 84/100\n",
            "1/1 [==============================] - 0s 18ms/step - loss: 1.4855 - mae: 1.4855\n",
            "Epoch 85/100\n",
            "1/1 [==============================] - 0s 33ms/step - loss: 1.4679 - mae: 1.4679\n",
            "Epoch 86/100\n",
            "1/1 [==============================] - 0s 26ms/step - loss: 1.4817 - mae: 1.4817\n",
            "Epoch 87/100\n",
            "1/1 [==============================] - 0s 33ms/step - loss: 1.4855 - mae: 1.4855\n",
            "Epoch 88/100\n",
            "1/1 [==============================] - 0s 18ms/step - loss: 1.4758 - mae: 1.4758\n",
            "Epoch 89/100\n",
            "1/1 [==============================] - 0s 18ms/step - loss: 1.4540 - mae: 1.4540\n",
            "Epoch 90/100\n",
            "1/1 [==============================] - 0s 43ms/step - loss: 1.4581 - mae: 1.4581\n",
            "Epoch 91/100\n",
            "1/1 [==============================] - 0s 18ms/step - loss: 1.4647 - mae: 1.4647\n",
            "Epoch 92/100\n",
            "1/1 [==============================] - 0s 23ms/step - loss: 1.4546 - mae: 1.4546\n",
            "Epoch 93/100\n",
            "1/1 [==============================] - 0s 16ms/step - loss: 1.4293 - mae: 1.4293\n",
            "Epoch 94/100\n",
            "1/1 [==============================] - 0s 37ms/step - loss: 1.4410 - mae: 1.4410\n",
            "Epoch 95/100\n",
            "1/1 [==============================] - 0s 24ms/step - loss: 1.4500 - mae: 1.4500\n",
            "Epoch 96/100\n",
            "1/1 [==============================] - 0s 23ms/step - loss: 1.4446 - mae: 1.4446\n",
            "Epoch 97/100\n",
            "1/1 [==============================] - 0s 35ms/step - loss: 1.4259 - mae: 1.4259\n",
            "Epoch 98/100\n",
            "1/1 [==============================] - 0s 18ms/step - loss: 1.3952 - mae: 1.3952\n",
            "Epoch 99/100\n",
            "1/1 [==============================] - 0s 25ms/step - loss: 1.4274 - mae: 1.4274\n",
            "Epoch 100/100\n",
            "1/1 [==============================] - 0s 25ms/step - loss: 1.4414 - mae: 1.4414\n"
          ]
        },
        {
          "output_type": "execute_result",
          "data": {
            "text/plain": [
              "<keras.callbacks.History at 0x7f2c2eea80d0>"
            ]
          },
          "metadata": {},
          "execution_count": 10
        }
      ]
    },
    {
      "cell_type": "code",
      "source": [
        "model.predict([14])"
      ],
      "metadata": {
        "colab": {
          "base_uri": "https://localhost:8080/"
        },
        "id": "KBSSxkIy44nT",
        "outputId": "d2802f43-3976-4131-9334-32bed6a4c1dd"
      },
      "execution_count": null,
      "outputs": [
        {
          "output_type": "execute_result",
          "data": {
            "text/plain": [
              "array([[23.387346]], dtype=float32)"
            ]
          },
          "metadata": {},
          "execution_count": 11
        }
      ]
    },
    {
      "cell_type": "markdown",
      "source": [
        "## Evaluating"
      ],
      "metadata": {
        "id": "TsUdlYfm5ASu"
      }
    },
    {
      "cell_type": "code",
      "source": [
        "X = tf.range(-50,50,2)"
      ],
      "metadata": {
        "id": "5en5ewrWhHyg"
      },
      "execution_count": null,
      "outputs": []
    },
    {
      "cell_type": "code",
      "source": [
        "y = X +10 "
      ],
      "metadata": {
        "id": "S-GTVV8PhNQi"
      },
      "execution_count": null,
      "outputs": []
    },
    {
      "cell_type": "code",
      "source": [
        "import matplotlib.pyplot as plt\n",
        "plt .scatter (X,y)"
      ],
      "metadata": {
        "colab": {
          "base_uri": "https://localhost:8080/",
          "height": 282
        },
        "id": "bhvueP76hcFC",
        "outputId": "828088e3-88c2-4f22-8633-1b505989a4ad"
      },
      "execution_count": null,
      "outputs": [
        {
          "output_type": "execute_result",
          "data": {
            "text/plain": [
              "<matplotlib.collections.PathCollection at 0x7f2c2be11910>"
            ]
          },
          "metadata": {},
          "execution_count": 14
        },
        {
          "output_type": "display_data",
          "data": {
            "text/plain": [
              "<Figure size 432x288 with 1 Axes>"
            ],
            "image/png": "[encoded data removed]"
          },
          "metadata": {
            "needs_background": "light"
          }
        }
      ]
    },
    {
      "cell_type": "code",
      "source": [
        "len(X)"
      ],
      "metadata": {
        "colab": {
          "base_uri": "https://localhost:8080/"
        },
        "id": "63cc29a-hoxw",
        "outputId": "12a4918d-c29b-4cf5-eb13-3574c8445980"
      },
      "execution_count": null,
      "outputs": [
        {
          "output_type": "execute_result",
          "data": {
            "text/plain": [
              "50"
            ]
          },
          "metadata": {},
          "execution_count": 15
        }
      ]
    },
    {
      "cell_type": "code",
      "source": [
        "#split the data into train and test sets\n",
        "X_train = X[:40] \n",
        "X_test = X [40:]\n",
        "\n",
        "y_train = y [:40]\n",
        "y_test = y [40:]"
      ],
      "metadata": {
        "id": "D52MBpXtidfY"
      },
      "execution_count": null,
      "outputs": []
    },
    {
      "cell_type": "code",
      "source": [
        "len(X_train),len(X_test),len(y_train),len(y_test),"
      ],
      "metadata": {
        "colab": {
          "base_uri": "https://localhost:8080/"
        },
        "id": "zdA2Zy-xkFU1",
        "outputId": "53555b44-560f-40e3-a2c1-309f179e0084"
      },
      "execution_count": null,
      "outputs": [
        {
          "output_type": "execute_result",
          "data": {
            "text/plain": [
              "(40, 10, 40, 10)"
            ]
          },
          "metadata": {},
          "execution_count": 17
        }
      ]
    },
    {
      "cell_type": "code",
      "source": [
        "plt.figure(figsize=(10,7))\n",
        "plt.scatter(X_train,y_train,c=\"cyan\", label = \"Training Data\")\n",
        "plt.scatter(X_test,y_test,c=\"r\", label = \"Testing Data\")\n",
        "plt.legend()"
      ],
      "metadata": {
        "colab": {
          "base_uri": "https://localhost:8080/",
          "height": 445
        },
        "id": "_XDmKEbLjCJS",
        "outputId": "37936b76-36bf-4f7e-8a26-977a679c52af"
      },
      "execution_count": null,
      "outputs": [
        {
          "output_type": "execute_result",
          "data": {
            "text/plain": [
              "<matplotlib.legend.Legend at 0x7f2c2bd80ed0>"
            ]
          },
          "metadata": {},
          "execution_count": 18
        },
        {
          "output_type": "display_data",
          "data": {
            "text/plain": [
              "<Figure size 720x504 with 1 Axes>"
            ],
            "image/png": "[encoded data removed]"
          },
          "metadata": {
            "needs_background": "light"
          }
        }
      ]
    },
    {
      "cell_type": "code",
      "source": [
        "tf.random.set_seed(42)\n",
        "\n",
        "model = tf.keras.Sequential([\n",
        "    tf.keras.layers.Dense(10,input_shape=[1])\n",
        "])\n",
        "\n",
        "model.compile(loss = tf.keras.losses.mae,\n",
        "              optimizer=tf.keras.optimizers.SGD(),\n",
        "              metrics=[\"mae\"])\n",
        "\n",
        "# Fit the model\n",
        "# model.fit(X, y, epochs=5) # this will break with TensorFlow 2.7.0+\n",
        "#model.fit(tf.expand_dims(X_train, axis=-1), y_train, epochs=100))\n",
        "#model.build()"
      ],
      "metadata": {
        "id": "uNm8BXWJknGc"
      },
      "execution_count": null,
      "outputs": []
    },
    {
      "cell_type": "code",
      "source": [
        "model.fit(tf.expand_dims(X_train, axis=-1), y_train, epochs=100)"
      ],
      "metadata": {
        "id": "WczkjWCQnFzH",
        "colab": {
          "base_uri": "https://localhost:8080/"
        },
        "outputId": "8245266c-7301-460f-cf0e-9e8c767f1be4"
      },
      "execution_count": null,
      "outputs": [
        {
          "output_type": "stream",
          "name": "stdout",
          "text": [
            "Epoch 1/100\n",
            "2/2 [==============================] - 1s 15ms/step - loss: 21.0265 - mae: 21.0265\n",
            "Epoch 2/100\n",
            "2/2 [==============================] - 0s 4ms/step - loss: 20.2754 - mae: 20.2754\n",
            "Epoch 3/100\n",
            "2/2 [==============================] - 0s 17ms/step - loss: 19.5174 - mae: 19.5174\n",
            "Epoch 4/100\n",
            "2/2 [==============================] - 0s 23ms/step - loss: 18.7921 - mae: 18.7921\n",
            "Epoch 5/100\n",
            "2/2 [==============================] - 0s 11ms/step - loss: 18.0788 - mae: 18.0788\n",
            "Epoch 6/100\n",
            "2/2 [==============================] - 0s 10ms/step - loss: 17.4140 - mae: 17.4140\n",
            "Epoch 7/100\n",
            "2/2 [==============================] - 0s 13ms/step - loss: 16.7899 - mae: 16.7899\n",
            "Epoch 8/100\n",
            "2/2 [==============================] - 0s 16ms/step - loss: 16.1395 - mae: 16.1395\n",
            "Epoch 9/100\n",
            "2/2 [==============================] - 0s 10ms/step - loss: 15.3807 - mae: 15.3807\n",
            "Epoch 10/100\n",
            "2/2 [==============================] - 0s 11ms/step - loss: 14.7269 - mae: 14.7269\n",
            "Epoch 11/100\n",
            "2/2 [==============================] - 0s 7ms/step - loss: 14.1750 - mae: 14.1750\n",
            "Epoch 12/100\n",
            "2/2 [==============================] - 0s 8ms/step - loss: 13.5832 - mae: 13.5832\n",
            "Epoch 13/100\n",
            "2/2 [==============================] - 0s 6ms/step - loss: 13.0146 - mae: 13.0146\n",
            "Epoch 14/100\n",
            "2/2 [==============================] - 0s 9ms/step - loss: 12.4214 - mae: 12.4214\n",
            "Epoch 15/100\n",
            "2/2 [==============================] - 0s 6ms/step - loss: 11.9433 - mae: 11.9433\n",
            "Epoch 16/100\n",
            "2/2 [==============================] - 0s 6ms/step - loss: 11.5204 - mae: 11.5204\n",
            "Epoch 17/100\n",
            "2/2 [==============================] - 0s 9ms/step - loss: 11.0958 - mae: 11.0958\n",
            "Epoch 18/100\n",
            "2/2 [==============================] - 0s 5ms/step - loss: 10.6768 - mae: 10.6768\n",
            "Epoch 19/100\n",
            "2/2 [==============================] - 0s 5ms/step - loss: 10.3347 - mae: 10.3347\n",
            "Epoch 20/100\n",
            "2/2 [==============================] - 0s 7ms/step - loss: 10.0231 - mae: 10.0231\n",
            "Epoch 21/100\n",
            "2/2 [==============================] - 0s 13ms/step - loss: 9.6845 - mae: 9.6845\n",
            "Epoch 22/100\n",
            "2/2 [==============================] - 0s 9ms/step - loss: 9.3814 - mae: 9.3814\n",
            "Epoch 23/100\n",
            "2/2 [==============================] - 0s 17ms/step - loss: 9.1588 - mae: 9.1588\n",
            "Epoch 24/100\n",
            "2/2 [==============================] - 0s 8ms/step - loss: 8.9567 - mae: 8.9567\n",
            "Epoch 25/100\n",
            "2/2 [==============================] - 0s 22ms/step - loss: 8.7177 - mae: 8.7177\n",
            "Epoch 26/100\n",
            "2/2 [==============================] - 0s 12ms/step - loss: 8.5311 - mae: 8.5311\n",
            "Epoch 27/100\n",
            "2/2 [==============================] - 0s 8ms/step - loss: 8.3489 - mae: 8.3489\n",
            "Epoch 28/100\n",
            "2/2 [==============================] - 0s 7ms/step - loss: 8.2035 - mae: 8.2035\n",
            "Epoch 29/100\n",
            "2/2 [==============================] - 0s 14ms/step - loss: 8.1046 - mae: 8.1046\n",
            "Epoch 30/100\n",
            "2/2 [==============================] - 0s 15ms/step - loss: 7.9722 - mae: 7.9722\n",
            "Epoch 31/100\n",
            "2/2 [==============================] - 0s 12ms/step - loss: 7.8556 - mae: 7.8556\n",
            "Epoch 32/100\n",
            "2/2 [==============================] - 0s 4ms/step - loss: 7.8136 - mae: 7.8136\n",
            "Epoch 33/100\n",
            "2/2 [==============================] - 0s 9ms/step - loss: 7.7667 - mae: 7.7667\n",
            "Epoch 34/100\n",
            "2/2 [==============================] - 0s 13ms/step - loss: 7.7211 - mae: 7.7211\n",
            "Epoch 35/100\n",
            "2/2 [==============================] - 0s 4ms/step - loss: 7.7180 - mae: 7.7180\n",
            "Epoch 36/100\n",
            "2/2 [==============================] - 0s 12ms/step - loss: 7.7090 - mae: 7.7090\n",
            "Epoch 37/100\n",
            "2/2 [==============================] - 0s 12ms/step - loss: 7.6861 - mae: 7.6861\n",
            "Epoch 38/100\n",
            "2/2 [==============================] - 0s 14ms/step - loss: 7.6616 - mae: 7.6616\n",
            "Epoch 39/100\n",
            "2/2 [==============================] - 0s 9ms/step - loss: 7.6361 - mae: 7.6361\n",
            "Epoch 40/100\n",
            "2/2 [==============================] - 0s 13ms/step - loss: 7.6269 - mae: 7.6269\n",
            "Epoch 41/100\n",
            "2/2 [==============================] - 0s 4ms/step - loss: 7.6052 - mae: 7.6052\n",
            "Epoch 42/100\n",
            "2/2 [==============================] - 0s 14ms/step - loss: 7.5990 - mae: 7.5990\n",
            "Epoch 43/100\n",
            "2/2 [==============================] - 0s 15ms/step - loss: 7.5962 - mae: 7.5962\n",
            "Epoch 44/100\n",
            "2/2 [==============================] - 0s 11ms/step - loss: 7.6064 - mae: 7.6064\n",
            "Epoch 45/100\n",
            "2/2 [==============================] - 0s 10ms/step - loss: 7.6124 - mae: 7.6124\n",
            "Epoch 46/100\n",
            "2/2 [==============================] - 0s 5ms/step - loss: 7.6172 - mae: 7.6172\n",
            "Epoch 47/100\n",
            "2/2 [==============================] - 0s 5ms/step - loss: 7.6230 - mae: 7.6230\n",
            "Epoch 48/100\n",
            "2/2 [==============================] - 0s 9ms/step - loss: 7.6232 - mae: 7.6232\n",
            "Epoch 49/100\n",
            "2/2 [==============================] - 0s 10ms/step - loss: 7.6189 - mae: 7.6189\n",
            "Epoch 50/100\n",
            "2/2 [==============================] - 0s 11ms/step - loss: 7.6142 - mae: 7.6142\n",
            "Epoch 51/100\n",
            "2/2 [==============================] - 0s 11ms/step - loss: 7.6103 - mae: 7.6103\n",
            "Epoch 52/100\n",
            "2/2 [==============================] - 0s 8ms/step - loss: 7.5891 - mae: 7.5891\n",
            "Epoch 53/100\n",
            "2/2 [==============================] - 0s 7ms/step - loss: 7.6021 - mae: 7.6021\n",
            "Epoch 54/100\n",
            "2/2 [==============================] - 0s 15ms/step - loss: 7.6101 - mae: 7.6101\n",
            "Epoch 55/100\n",
            "2/2 [==============================] - 0s 12ms/step - loss: 7.6018 - mae: 7.6018\n",
            "Epoch 56/100\n",
            "2/2 [==============================] - 0s 11ms/step - loss: 7.5971 - mae: 7.5971\n",
            "Epoch 57/100\n",
            "2/2 [==============================] - 0s 10ms/step - loss: 7.5848 - mae: 7.5848\n",
            "Epoch 58/100\n",
            "2/2 [==============================] - 0s 16ms/step - loss: 7.5850 - mae: 7.5850\n",
            "Epoch 59/100\n",
            "2/2 [==============================] - 0s 12ms/step - loss: 7.5759 - mae: 7.5759\n",
            "Epoch 60/100\n",
            "2/2 [==============================] - 0s 21ms/step - loss: 7.5758 - mae: 7.5758\n",
            "Epoch 61/100\n",
            "2/2 [==============================] - 0s 9ms/step - loss: 7.5803 - mae: 7.5803\n",
            "Epoch 62/100\n",
            "2/2 [==============================] - 0s 21ms/step - loss: 7.5772 - mae: 7.5772\n",
            "Epoch 63/100\n",
            "2/2 [==============================] - 0s 7ms/step - loss: 7.5962 - mae: 7.5962\n",
            "Epoch 64/100\n",
            "2/2 [==============================] - 0s 10ms/step - loss: 7.6039 - mae: 7.6039\n",
            "Epoch 65/100\n",
            "2/2 [==============================] - 0s 14ms/step - loss: 7.5726 - mae: 7.5726\n",
            "Epoch 66/100\n",
            "2/2 [==============================] - 0s 10ms/step - loss: 7.5692 - mae: 7.5692\n",
            "Epoch 67/100\n",
            "2/2 [==============================] - 0s 16ms/step - loss: 7.5695 - mae: 7.5695\n",
            "Epoch 68/100\n",
            "2/2 [==============================] - 0s 8ms/step - loss: 7.5676 - mae: 7.5676\n",
            "Epoch 69/100\n",
            "2/2 [==============================] - 0s 10ms/step - loss: 7.5657 - mae: 7.5657\n",
            "Epoch 70/100\n",
            "2/2 [==============================] - 0s 11ms/step - loss: 7.5767 - mae: 7.5767\n",
            "Epoch 71/100\n",
            "2/2 [==============================] - 0s 12ms/step - loss: 7.5835 - mae: 7.5835\n",
            "Epoch 72/100\n",
            "2/2 [==============================] - 0s 7ms/step - loss: 7.5883 - mae: 7.5883\n",
            "Epoch 73/100\n",
            "2/2 [==============================] - 0s 4ms/step - loss: 7.5930 - mae: 7.5930\n",
            "Epoch 74/100\n",
            "2/2 [==============================] - 0s 16ms/step - loss: 7.5985 - mae: 7.5985\n",
            "Epoch 75/100\n",
            "2/2 [==============================] - 0s 9ms/step - loss: 7.5706 - mae: 7.5706\n",
            "Epoch 76/100\n",
            "2/2 [==============================] - 0s 10ms/step - loss: 7.5578 - mae: 7.5578\n",
            "Epoch 77/100\n",
            "2/2 [==============================] - 0s 10ms/step - loss: 7.5607 - mae: 7.5607\n",
            "Epoch 78/100\n",
            "2/2 [==============================] - 0s 20ms/step - loss: 7.5585 - mae: 7.5585\n",
            "Epoch 79/100\n",
            "2/2 [==============================] - 0s 15ms/step - loss: 7.5620 - mae: 7.5620\n",
            "Epoch 80/100\n",
            "2/2 [==============================] - 0s 12ms/step - loss: 7.5531 - mae: 7.5531\n",
            "Epoch 81/100\n",
            "2/2 [==============================] - 0s 8ms/step - loss: 7.5513 - mae: 7.5513\n",
            "Epoch 82/100\n",
            "2/2 [==============================] - 0s 7ms/step - loss: 7.5509 - mae: 7.5509\n",
            "Epoch 83/100\n",
            "2/2 [==============================] - 0s 13ms/step - loss: 7.5533 - mae: 7.5533\n",
            "Epoch 84/100\n",
            "2/2 [==============================] - 0s 17ms/step - loss: 7.5550 - mae: 7.5550\n",
            "Epoch 85/100\n",
            "2/2 [==============================] - 0s 26ms/step - loss: 7.5547 - mae: 7.5547\n",
            "Epoch 86/100\n",
            "2/2 [==============================] - 0s 11ms/step - loss: 7.5482 - mae: 7.5482\n",
            "Epoch 87/100\n",
            "2/2 [==============================] - 0s 12ms/step - loss: 7.5674 - mae: 7.5674\n",
            "Epoch 88/100\n",
            "2/2 [==============================] - 0s 7ms/step - loss: 7.5557 - mae: 7.5557\n",
            "Epoch 89/100\n",
            "2/2 [==============================] - 0s 7ms/step - loss: 7.5569 - mae: 7.5569\n",
            "Epoch 90/100\n",
            "2/2 [==============================] - 0s 10ms/step - loss: 7.5559 - mae: 7.5559\n",
            "Epoch 91/100\n",
            "2/2 [==============================] - 0s 7ms/step - loss: 7.5406 - mae: 7.5406\n",
            "Epoch 92/100\n",
            "2/2 [==============================] - 0s 7ms/step - loss: 7.5400 - mae: 7.5400\n",
            "Epoch 93/100\n",
            "2/2 [==============================] - 0s 9ms/step - loss: 7.5392 - mae: 7.5392\n",
            "Epoch 94/100\n",
            "2/2 [==============================] - 0s 8ms/step - loss: 7.5384 - mae: 7.5384\n",
            "Epoch 95/100\n",
            "2/2 [==============================] - 0s 15ms/step - loss: 7.5432 - mae: 7.5432\n",
            "Epoch 96/100\n",
            "2/2 [==============================] - 0s 13ms/step - loss: 7.5512 - mae: 7.5512\n",
            "Epoch 97/100\n",
            "2/2 [==============================] - 0s 30ms/step - loss: 7.5314 - mae: 7.5314\n",
            "Epoch 98/100\n",
            "2/2 [==============================] - 0s 22ms/step - loss: 7.5367 - mae: 7.5367\n",
            "Epoch 99/100\n",
            "2/2 [==============================] - 0s 17ms/step - loss: 7.5340 - mae: 7.5340\n",
            "Epoch 100/100\n",
            "2/2 [==============================] - 0s 7ms/step - loss: 7.5318 - mae: 7.5318\n"
          ]
        },
        {
          "output_type": "execute_result",
          "data": {
            "text/plain": [
              "<keras.callbacks.History at 0x7f2c2e036110>"
            ]
          },
          "metadata": {},
          "execution_count": 20
        }
      ]
    },
    {
      "cell_type": "code",
      "source": [
        "model.summary()"
      ],
      "metadata": {
        "colab": {
          "base_uri": "https://localhost:8080/"
        },
        "id": "CbxkjAmuuHLU",
        "outputId": "8e251218-1d6b-4bae-aacb-8de4b266c2cf"
      },
      "execution_count": null,
      "outputs": [
        {
          "output_type": "stream",
          "name": "stdout",
          "text": [
            "Model: \"sequential_4\"\n",
            "_________________________________________________________________\n",
            " Layer (type)                Output Shape              Param #   \n",
            "=================================================================\n",
            " dense_6 (Dense)             (None, 10)                20        \n",
            "                                                                 \n",
            "=================================================================\n",
            "Total params: 20\n",
            "Trainable params: 20\n",
            "Non-trainable params: 0\n",
            "_________________________________________________________________\n"
          ]
        }
      ]
    },
    {
      "cell_type": "code",
      "source": [
        "from tensorflow.keras.utils import plot_model\n",
        "plot_model(model,show_shapes=True)"
      ],
      "metadata": {
        "colab": {
          "base_uri": "https://localhost:8080/",
          "height": 201
        },
        "id": "0fh30GFcxiFX",
        "outputId": "4d9f0bde-2ca0-41e5-b804-9e545e604444"
      },
      "execution_count": null,
      "outputs": [
        {
          "output_type": "execute_result",
          "data": {
            "image/png": "[encoded data removed]",
            "text/plain": [
              "<IPython.core.display.Image object>"
            ]
          },
          "metadata": {},
          "execution_count": 22
        }
      ]
    },
    {
      "cell_type": "code",
      "source": [
        "y_pred = model.predict(X_test)"
      ],
      "metadata": {
        "id": "XtxmXzjAx-rE",
        "colab": {
          "base_uri": "https://localhost:8080/"
        },
        "outputId": "583052d6-3f4a-4457-e8c8-228254b914ca"
      },
      "execution_count": null,
      "outputs": [
        {
          "output_type": "stream",
          "name": "stderr",
          "text": [
            "WARNING:tensorflow:5 out of the last 5 calls to <function Model.make_predict_function.<locals>.predict_function at 0x7f2c2dfa8c20> triggered tf.function retracing. Tracing is expensive and the excessive number of tracings could be due to (1) creating @tf.function repeatedly in a loop, (2) passing tensors with different shapes, (3) passing Python objects instead of tensors. For (1), please define your @tf.function outside of the loop. For (2), @tf.function has experimental_relax_shapes=True option that relaxes argument shapes that can avoid unnecessary retracing. For (3), please refer to https://www.tensorflow.org/guide/function#controlling_retracing and https://www.tensorflow.org/api_docs/python/tf/function for  more details.\n"
          ]
        }
      ]
    },
    {
      "cell_type": "code",
      "source": [
        "plt.figure(figsize=(10,7))\n",
        "plt.scatter(X_train, y_train, c=\"cyan\", label= \"Training Data\")\n",
        "plt.scatter(X_test, y_test, c=\"r\", label=\"Testing Data\")\n",
        "#plt.scatter(X_test, y_pred, c=\"g\", label = \"Predictions\")\n",
        "plt.legend();"
      ],
      "metadata": {
        "colab": {
          "base_uri": "https://localhost:8080/",
          "height": 428
        },
        "id": "oWOGt7uj4S-0",
        "outputId": "dcec9692-47f2-4610-d249-c3eb66432a80"
      },
      "execution_count": null,
      "outputs": [
        {
          "output_type": "display_data",
          "data": {
            "text/plain": [
              "<Figure size 720x504 with 1 Axes>"
            ],
            "image/png": "[encoded data removed]"
          },
          "metadata": {
            "needs_background": "light"
          }
        }
      ]
    },
    {
      "cell_type": "code",
      "source": [
        "X_train, y_train"
      ],
      "metadata": {
        "id": "6-ZRVsWn5R6u",
        "colab": {
          "base_uri": "https://localhost:8080/"
        },
        "outputId": "ca7ebf58-c77c-46c8-b4ec-e961d0655e65"
      },
      "execution_count": null,
      "outputs": [
        {
          "output_type": "execute_result",
          "data": {
            "text/plain": [
              "(<tf.Tensor: shape=(40,), dtype=int32, numpy=\n",
              " array([-50, -48, -46, -44, -42, -40, -38, -36, -34, -32, -30, -28, -26,\n",
              "        -24, -22, -20, -18, -16, -14, -12, -10,  -8,  -6,  -4,  -2,   0,\n",
              "          2,   4,   6,   8,  10,  12,  14,  16,  18,  20,  22,  24,  26,\n",
              "         28], dtype=int32)>, <tf.Tensor: shape=(40,), dtype=int32, numpy=\n",
              " array([-40, -38, -36, -34, -32, -30, -28, -26, -24, -22, -20, -18, -16,\n",
              "        -14, -12, -10,  -8,  -6,  -4,  -2,   0,   2,   4,   6,   8,  10,\n",
              "         12,  14,  16,  18,  20,  22,  24,  26,  28,  30,  32,  34,  36,\n",
              "         38], dtype=int32)>)"
            ]
          },
          "metadata": {},
          "execution_count": 25
        }
      ]
    },
    {
      "cell_type": "markdown",
      "source": [
        "## Build new models"
      ],
      "metadata": {
        "id": "U6YrRTkH_ita"
      }
    },
    {
      "cell_type": "markdown",
      "source": [
        " \n",
        "\n",
        "1.  'model_1' - 1 layer, 100 epoch\n",
        "2.  'model_2' - 2 layer, 100 epoch\n",
        "3.  'model_3' - 2 layer, 500 epoch\n"
      ],
      "metadata": {
        "id": "47Zarq1XAIpy"
      }
    },
    {
      "cell_type": "code",
      "source": [
        "#Build model_1\n",
        "tf.random.set_seed(42)\n",
        "\n",
        "model_1 = tf.keras.Sequential([\n",
        "    tf.keras.layers.Dense(1)\n",
        "])\n",
        "\n",
        "model_1.compile(loss = tf.keras.losses.mae,\n",
        "              optimizer=tf.keras.optimizers.SGD(),\n",
        "              metrics=[\"mae\"])\n",
        "\n",
        "model_1.fit(tf.expand_dims(X_train, axis=-1), y_train, epochs=100)\n"
      ],
      "metadata": {
        "id": "6XTg3SM_Ad_Y",
        "colab": {
          "base_uri": "https://localhost:8080/"
        },
        "outputId": "83381cc0-9aa4-4587-96bc-e57d3a417f07"
      },
      "execution_count": null,
      "outputs": [
        {
          "output_type": "stream",
          "name": "stdout",
          "text": [
            "Epoch 1/100\n",
            "2/2 [==============================] - 1s 8ms/step - loss: 9.1149 - mae: 9.1149\n",
            "Epoch 2/100\n",
            "2/2 [==============================] - 0s 6ms/step - loss: 7.7667 - mae: 7.7667\n",
            "Epoch 3/100\n",
            "2/2 [==============================] - 0s 9ms/step - loss: 8.6207 - mae: 8.6207\n",
            "Epoch 4/100\n",
            "2/2 [==============================] - 0s 6ms/step - loss: 7.8417 - mae: 7.8417\n",
            "Epoch 5/100\n",
            "2/2 [==============================] - 0s 6ms/step - loss: 7.6364 - mae: 7.6364\n",
            "Epoch 6/100\n",
            "2/2 [==============================] - 0s 5ms/step - loss: 7.6480 - mae: 7.6480\n",
            "Epoch 7/100\n",
            "2/2 [==============================] - 0s 7ms/step - loss: 8.0770 - mae: 8.0770\n",
            "Epoch 8/100\n",
            "2/2 [==============================] - 0s 25ms/step - loss: 7.6970 - mae: 7.6970\n",
            "Epoch 9/100\n",
            "2/2 [==============================] - 0s 6ms/step - loss: 8.3178 - mae: 8.3178\n",
            "Epoch 10/100\n",
            "2/2 [==============================] - 0s 23ms/step - loss: 8.1751 - mae: 8.1751\n",
            "Epoch 11/100\n",
            "2/2 [==============================] - 0s 30ms/step - loss: 7.6269 - mae: 7.6269\n",
            "Epoch 12/100\n",
            "2/2 [==============================] - 0s 7ms/step - loss: 7.5798 - mae: 7.5798\n",
            "Epoch 13/100\n",
            "2/2 [==============================] - 0s 7ms/step - loss: 7.4893 - mae: 7.4893\n",
            "Epoch 14/100\n",
            "2/2 [==============================] - 0s 7ms/step - loss: 7.7301 - mae: 7.7301\n",
            "Epoch 15/100\n",
            "2/2 [==============================] - 0s 11ms/step - loss: 7.6008 - mae: 7.6008\n",
            "Epoch 16/100\n",
            "2/2 [==============================] - 0s 11ms/step - loss: 7.5749 - mae: 7.5749\n",
            "Epoch 17/100\n",
            "2/2 [==============================] - 0s 8ms/step - loss: 7.9460 - mae: 7.9460\n",
            "Epoch 18/100\n",
            "2/2 [==============================] - 0s 24ms/step - loss: 8.3558 - mae: 8.3558\n",
            "Epoch 19/100\n",
            "2/2 [==============================] - 0s 21ms/step - loss: 8.8017 - mae: 8.8017\n",
            "Epoch 20/100\n",
            "2/2 [==============================] - 0s 7ms/step - loss: 7.5588 - mae: 7.5588\n",
            "Epoch 21/100\n",
            "2/2 [==============================] - 0s 12ms/step - loss: 7.6380 - mae: 7.6380\n",
            "Epoch 22/100\n",
            "2/2 [==============================] - 0s 10ms/step - loss: 7.6506 - mae: 7.6506\n",
            "Epoch 23/100\n",
            "2/2 [==============================] - 0s 10ms/step - loss: 7.3149 - mae: 7.3149\n",
            "Epoch 24/100\n",
            "2/2 [==============================] - 0s 11ms/step - loss: 8.4745 - mae: 8.4745\n",
            "Epoch 25/100\n",
            "2/2 [==============================] - 0s 15ms/step - loss: 8.4943 - mae: 8.4943\n",
            "Epoch 26/100\n",
            "2/2 [==============================] - 0s 17ms/step - loss: 8.1181 - mae: 8.1181\n",
            "Epoch 27/100\n",
            "2/2 [==============================] - 0s 10ms/step - loss: 7.3965 - mae: 7.3965\n",
            "Epoch 28/100\n",
            "2/2 [==============================] - 0s 14ms/step - loss: 7.6502 - mae: 7.6502\n",
            "Epoch 29/100\n",
            "2/2 [==============================] - 0s 10ms/step - loss: 7.6256 - mae: 7.6256\n",
            "Epoch 30/100\n",
            "2/2 [==============================] - 0s 16ms/step - loss: 7.8578 - mae: 7.8578\n",
            "Epoch 31/100\n",
            "2/2 [==============================] - 0s 15ms/step - loss: 8.3742 - mae: 8.3742\n",
            "Epoch 32/100\n",
            "2/2 [==============================] - 0s 23ms/step - loss: 7.7497 - mae: 7.7497\n",
            "Epoch 33/100\n",
            "2/2 [==============================] - 0s 14ms/step - loss: 7.3927 - mae: 7.3927\n",
            "Epoch 34/100\n",
            "2/2 [==============================] - 0s 6ms/step - loss: 7.3304 - mae: 7.3304\n",
            "Epoch 35/100\n",
            "2/2 [==============================] - 0s 11ms/step - loss: 7.6587 - mae: 7.6587\n",
            "Epoch 36/100\n",
            "2/2 [==============================] - 0s 20ms/step - loss: 8.4882 - mae: 8.4882\n",
            "Epoch 37/100\n",
            "2/2 [==============================] - 0s 21ms/step - loss: 7.2220 - mae: 7.2220\n",
            "Epoch 38/100\n",
            "2/2 [==============================] - 0s 22ms/step - loss: 7.6228 - mae: 7.6228\n",
            "Epoch 39/100\n",
            "2/2 [==============================] - 0s 15ms/step - loss: 7.4708 - mae: 7.4708\n",
            "Epoch 40/100\n",
            "2/2 [==============================] - 0s 11ms/step - loss: 7.7807 - mae: 7.7807\n",
            "Epoch 41/100\n",
            "2/2 [==============================] - 0s 5ms/step - loss: 7.1874 - mae: 7.1874\n",
            "Epoch 42/100\n",
            "2/2 [==============================] - 0s 27ms/step - loss: 7.1804 - mae: 7.1804\n",
            "Epoch 43/100\n",
            "2/2 [==============================] - 0s 9ms/step - loss: 7.4987 - mae: 7.4987\n",
            "Epoch 44/100\n",
            "2/2 [==============================] - 0s 14ms/step - loss: 7.0940 - mae: 7.0940\n",
            "Epoch 45/100\n",
            "2/2 [==============================] - 0s 17ms/step - loss: 8.3357 - mae: 8.3357\n",
            "Epoch 46/100\n",
            "2/2 [==============================] - 0s 5ms/step - loss: 7.9506 - mae: 7.9506\n",
            "Epoch 47/100\n",
            "2/2 [==============================] - 0s 7ms/step - loss: 7.3178 - mae: 7.3178\n",
            "Epoch 48/100\n",
            "2/2 [==============================] - 0s 14ms/step - loss: 7.3011 - mae: 7.3011\n",
            "Epoch 49/100\n",
            "2/2 [==============================] - 0s 10ms/step - loss: 7.0826 - mae: 7.0826\n",
            "Epoch 50/100\n",
            "2/2 [==============================] - 0s 9ms/step - loss: 8.1954 - mae: 8.1954\n",
            "Epoch 51/100\n",
            "2/2 [==============================] - 0s 9ms/step - loss: 7.1721 - mae: 7.1721\n",
            "Epoch 52/100\n",
            "2/2 [==============================] - 0s 16ms/step - loss: 8.0275 - mae: 8.0275\n",
            "Epoch 53/100\n",
            "2/2 [==============================] - 0s 13ms/step - loss: 7.9086 - mae: 7.9086\n",
            "Epoch 54/100\n",
            "2/2 [==============================] - 0s 15ms/step - loss: 7.0921 - mae: 7.0921\n",
            "Epoch 55/100\n",
            "2/2 [==============================] - 0s 17ms/step - loss: 7.5033 - mae: 7.5033\n",
            "Epoch 56/100\n",
            "2/2 [==============================] - 0s 4ms/step - loss: 7.2437 - mae: 7.2437\n",
            "Epoch 57/100\n",
            "2/2 [==============================] - 0s 14ms/step - loss: 8.6733 - mae: 8.6733\n",
            "Epoch 58/100\n",
            "2/2 [==============================] - 0s 13ms/step - loss: 7.0837 - mae: 7.0837\n",
            "Epoch 59/100\n",
            "2/2 [==============================] - 0s 6ms/step - loss: 6.9876 - mae: 6.9876\n",
            "Epoch 60/100\n",
            "2/2 [==============================] - 0s 16ms/step - loss: 7.2365 - mae: 7.2365\n",
            "Epoch 61/100\n",
            "2/2 [==============================] - 0s 11ms/step - loss: 6.9772 - mae: 6.9772\n",
            "Epoch 62/100\n",
            "2/2 [==============================] - 0s 9ms/step - loss: 7.3716 - mae: 7.3716\n",
            "Epoch 63/100\n",
            "2/2 [==============================] - 0s 10ms/step - loss: 7.5958 - mae: 7.5958\n",
            "Epoch 64/100\n",
            "2/2 [==============================] - 0s 5ms/step - loss: 8.3179 - mae: 8.3179\n",
            "Epoch 65/100\n",
            "2/2 [==============================] - 0s 10ms/step - loss: 7.4643 - mae: 7.4643\n",
            "Epoch 66/100\n",
            "2/2 [==============================] - 0s 23ms/step - loss: 7.1355 - mae: 7.1355\n",
            "Epoch 67/100\n",
            "2/2 [==============================] - 0s 14ms/step - loss: 6.9624 - mae: 6.9624\n",
            "Epoch 68/100\n",
            "2/2 [==============================] - 0s 17ms/step - loss: 7.1696 - mae: 7.1696\n",
            "Epoch 69/100\n",
            "2/2 [==============================] - 0s 31ms/step - loss: 7.5231 - mae: 7.5231\n",
            "Epoch 70/100\n",
            "2/2 [==============================] - 0s 19ms/step - loss: 6.9907 - mae: 6.9907\n",
            "Epoch 71/100\n",
            "2/2 [==============================] - 0s 15ms/step - loss: 8.0274 - mae: 8.0274\n",
            "Epoch 72/100\n",
            "2/2 [==============================] - 0s 17ms/step - loss: 7.4331 - mae: 7.4331\n",
            "Epoch 73/100\n",
            "2/2 [==============================] - 0s 7ms/step - loss: 6.9087 - mae: 6.9087\n",
            "Epoch 74/100\n",
            "2/2 [==============================] - 0s 5ms/step - loss: 7.6174 - mae: 7.6174\n",
            "Epoch 75/100\n",
            "2/2 [==============================] - 0s 12ms/step - loss: 7.1471 - mae: 7.1471\n",
            "Epoch 76/100\n",
            "2/2 [==============================] - 0s 8ms/step - loss: 6.8978 - mae: 6.8978\n",
            "Epoch 77/100\n",
            "2/2 [==============================] - 0s 22ms/step - loss: 6.7719 - mae: 6.7719\n",
            "Epoch 78/100\n",
            "2/2 [==============================] - 0s 32ms/step - loss: 7.1596 - mae: 7.1596\n",
            "Epoch 79/100\n",
            "2/2 [==============================] - 0s 13ms/step - loss: 7.4164 - mae: 7.4164\n",
            "Epoch 80/100\n",
            "2/2 [==============================] - 0s 10ms/step - loss: 7.7821 - mae: 7.7821\n",
            "Epoch 81/100\n",
            "2/2 [==============================] - 0s 6ms/step - loss: 6.9854 - mae: 6.9854\n",
            "Epoch 82/100\n",
            "2/2 [==============================] - 0s 18ms/step - loss: 7.0173 - mae: 7.0173\n",
            "Epoch 83/100\n",
            "2/2 [==============================] - 0s 9ms/step - loss: 6.8672 - mae: 6.8672\n",
            "Epoch 84/100\n",
            "2/2 [==============================] - 0s 12ms/step - loss: 6.6924 - mae: 6.6924\n",
            "Epoch 85/100\n",
            "2/2 [==============================] - 0s 15ms/step - loss: 7.4823 - mae: 7.4823\n",
            "Epoch 86/100\n",
            "2/2 [==============================] - 0s 9ms/step - loss: 7.1672 - mae: 7.1672\n",
            "Epoch 87/100\n",
            "2/2 [==============================] - 0s 12ms/step - loss: 7.4432 - mae: 7.4432\n",
            "Epoch 88/100\n",
            "2/2 [==============================] - 0s 13ms/step - loss: 8.5035 - mae: 8.5035\n",
            "Epoch 89/100\n",
            "2/2 [==============================] - 0s 19ms/step - loss: 6.6354 - mae: 6.6354\n",
            "Epoch 90/100\n",
            "2/2 [==============================] - 0s 20ms/step - loss: 7.0355 - mae: 7.0355\n",
            "Epoch 91/100\n",
            "2/2 [==============================] - 0s 13ms/step - loss: 6.6649 - mae: 6.6649\n",
            "Epoch 92/100\n",
            "2/2 [==============================] - 0s 23ms/step - loss: 6.7045 - mae: 6.7045\n",
            "Epoch 93/100\n",
            "2/2 [==============================] - 0s 8ms/step - loss: 6.5894 - mae: 6.5894\n",
            "Epoch 94/100\n",
            "2/2 [==============================] - 0s 10ms/step - loss: 6.7149 - mae: 6.7149\n",
            "Epoch 95/100\n",
            "2/2 [==============================] - 0s 10ms/step - loss: 7.5034 - mae: 7.5034\n",
            "Epoch 96/100\n",
            "2/2 [==============================] - 0s 14ms/step - loss: 6.7003 - mae: 6.7003\n",
            "Epoch 97/100\n",
            "2/2 [==============================] - 0s 14ms/step - loss: 7.8171 - mae: 7.8171\n",
            "Epoch 98/100\n",
            "2/2 [==============================] - 0s 11ms/step - loss: 6.5638 - mae: 6.5638\n",
            "Epoch 99/100\n",
            "2/2 [==============================] - 0s 12ms/step - loss: 6.7611 - mae: 6.7611\n",
            "Epoch 100/100\n",
            "2/2 [==============================] - 0s 9ms/step - loss: 6.5601 - mae: 6.5601\n"
          ]
        },
        {
          "output_type": "execute_result",
          "data": {
            "text/plain": [
              "<keras.callbacks.History at 0x7f2c2e044b50>"
            ]
          },
          "metadata": {},
          "execution_count": 26
        }
      ]
    },
    {
      "cell_type": "code",
      "source": [
        "y_preds_1 = model_1.predict(X_test)"
      ],
      "metadata": {
        "id": "23SuWXHYAzr0",
        "colab": {
          "base_uri": "https://localhost:8080/"
        },
        "outputId": "88373cc6-c461-4a46-b252-df0d9859b586"
      },
      "execution_count": null,
      "outputs": [
        {
          "output_type": "stream",
          "name": "stderr",
          "text": [
            "WARNING:tensorflow:6 out of the last 6 calls to <function Model.make_predict_function.<locals>.predict_function at 0x7f2c2dec8a70> triggered tf.function retracing. Tracing is expensive and the excessive number of tracings could be due to (1) creating @tf.function repeatedly in a loop, (2) passing tensors with different shapes, (3) passing Python objects instead of tensors. For (1), please define your @tf.function outside of the loop. For (2), @tf.function has experimental_relax_shapes=True option that relaxes argument shapes that can avoid unnecessary retracing. For (3), please refer to https://www.tensorflow.org/guide/function#controlling_retracing and https://www.tensorflow.org/api_docs/python/tf/function for  more details.\n"
          ]
        }
      ]
    },
    {
      "cell_type": "code",
      "source": [
        "def plot_predictions(train_data=X_train, \n",
        "                     train_labels=y_train, \n",
        "                     test_data=X_test, \n",
        "                     test_labels=y_test, \n",
        "                     predictions=y_preds_1):\n",
        "  \"\"\"\n",
        "  Plots training data, test data and compares predictions.\n",
        "  \"\"\"\n",
        "  plt.figure(figsize=(10, 7))\n",
        "  # Plot training data in blue\n",
        "  plt.scatter(train_data, train_labels, c=\"b\", label=\"Training data\")\n",
        "  # Plot test data in green\n",
        "  plt.scatter(test_data, test_labels, c=\"g\", label=\"Testing data\")\n",
        "  # Plot the predictions in red (predictions were made on the test data)\n",
        "  plt.scatter(test_data, predictions, c=\"r\", label=\"Predictions\")\n",
        "  # Show the legend\n",
        "  plt.legend();"
      ],
      "metadata": {
        "id": "82C2vhJHDZPO"
      },
      "execution_count": null,
      "outputs": []
    },
    {
      "cell_type": "code",
      "source": [
        "plot_predictions()"
      ],
      "metadata": {
        "colab": {
          "base_uri": "https://localhost:8080/",
          "height": 428
        },
        "id": "uM1nW6zhC0DH",
        "outputId": "13603faa-5b6a-4b3e-cb29-f7ae3d2ae080"
      },
      "execution_count": null,
      "outputs": [
        {
          "output_type": "display_data",
          "data": {
            "text/plain": [
              "<Figure size 720x504 with 1 Axes>"
            ],
            "image/png": "[encoded data removed]"
          },
          "metadata": {
            "needs_background": "light"
          }
        }
      ]
    },
    {
      "cell_type": "code",
      "source": [
        "#build model_2\n",
        "\n",
        "tf.random.set_seed(42)\n",
        "\n",
        "model_2 = tf.keras.Sequential([\n",
        "    tf.keras.layers.Dense(10),\n",
        "    tf.keras.layers.Dense(1)\n",
        "])\n",
        "\n",
        "model_2.compile(loss = tf.keras.losses.mae,\n",
        "              optimizer=tf.keras.optimizers.SGD(),\n",
        "              metrics=[\"mse\"])\n",
        "\n",
        "model_2.fit(tf.expand_dims(X_train, axis=-1), y_train, epochs=100,verbose = 0)\n"
      ],
      "metadata": {
        "colab": {
          "base_uri": "https://localhost:8080/"
        },
        "id": "YOfuPZ7QD2kS",
        "outputId": "b081df5c-d356-4b7c-8a7a-976d3fa73142"
      },
      "execution_count": null,
      "outputs": [
        {
          "output_type": "execute_result",
          "data": {
            "text/plain": [
              "<keras.callbacks.History at 0x7f2c2ddec1d0>"
            ]
          },
          "metadata": {},
          "execution_count": 30
        }
      ]
    },
    {
      "cell_type": "code",
      "source": [
        "y_preds_2 = model_2.predict(X_test)\n",
        "plot_predictions(predictions=y_preds_2)"
      ],
      "metadata": {
        "colab": {
          "base_uri": "https://localhost:8080/",
          "height": 428
        },
        "id": "6Q6x3WfaFKV2",
        "outputId": "ed4a2410-c5ac-4874-edab-2234ffe06f41"
      },
      "execution_count": null,
      "outputs": [
        {
          "output_type": "display_data",
          "data": {
            "text/plain": [
              "<Figure size 720x504 with 1 Axes>"
            ],
            "image/png": "[encoded data removed]"
          },
          "metadata": {
            "needs_background": "light"
          }
        }
      ]
    },
    {
      "cell_type": "code",
      "source": [
        "#build model_3\n",
        "\n",
        "tf.random.set_seed(42)\n",
        "\n",
        "model_3 = tf.keras.Sequential([\n",
        "    tf.keras.layers.Dense(10),\n",
        "    tf.keras.layers.Dense(1)\n",
        "])\n",
        "\n",
        "model_3.compile(loss = tf.keras.losses.mae,\n",
        "              optimizer=tf.keras.optimizers.SGD(),\n",
        "              metrics=[\"mae\"])\n",
        "\n",
        "model_3.fit(tf.expand_dims(X_train, axis=-1), y_train, epochs=500,verbose = 0)\n"
      ],
      "metadata": {
        "colab": {
          "base_uri": "https://localhost:8080/"
        },
        "id": "4lW7Ao3oFhqe",
        "outputId": "17b2885a-bdf7-40ae-b816-97168cec77e1"
      },
      "execution_count": null,
      "outputs": [
        {
          "output_type": "execute_result",
          "data": {
            "text/plain": [
              "<keras.callbacks.History at 0x7f2c2be30cd0>"
            ]
          },
          "metadata": {},
          "execution_count": 32
        }
      ]
    },
    {
      "cell_type": "code",
      "source": [
        "y_preds_3 = model_3.predict(X_test)\n",
        "plot_predictions(predictions=y_preds_3)"
      ],
      "metadata": {
        "colab": {
          "base_uri": "https://localhost:8080/",
          "height": 428
        },
        "id": "o3yoI2D2GBzy",
        "outputId": "9c463ce9-2f67-4ab2-e484-c35c817fdd01"
      },
      "execution_count": null,
      "outputs": [
        {
          "output_type": "display_data",
          "data": {
            "text/plain": [
              "<Figure size 720x504 with 1 Axes>"
            ],
            "image/png": "[encoded data removed]"
          },
          "metadata": {
            "needs_background": "light"
          }
        }
      ]
    },
    {
      "cell_type": "markdown",
      "source": [
        "## Another Example "
      ],
      "metadata": {
        "id": "18JQQH9VJsgT"
      }
    },
    {
      "cell_type": "code",
      "source": [
        "import tensorflow as tf\n",
        "import pandas as pd\n",
        "import matplotlib.pyplot as plt"
      ],
      "metadata": {
        "id": "vgU8kXulBumZ"
      },
      "execution_count": null,
      "outputs": []
    },
    {
      "cell_type": "code",
      "source": [
        "insurance_csv = pd.read_csv(\"https://raw.githubusercontent.com/stedy/Machine-Learning-with-R-datasets/master/insurance.csv\")"
      ],
      "metadata": {
        "id": "9rNr1VNoB3-N"
      },
      "execution_count": null,
      "outputs": []
    },
    {
      "cell_type": "code",
      "source": [
        "insurance_csv.head()"
      ],
      "metadata": {
        "colab": {
          "base_uri": "https://localhost:8080/",
          "height": 206
        },
        "id": "ij-_A-FMCNmc",
        "outputId": "1e570769-dbf6-4d60-80ba-827232148331"
      },
      "execution_count": null,
      "outputs": [
        {
          "output_type": "execute_result",
          "data": {
            "text/plain": [
              "   age     sex     bmi  children smoker     region      charges\n",
              "0   19  female  27.900         0    yes  southwest  16884.92400\n",
              "1   18    male  33.770         1     no  southeast   1725.55230\n",
              "2   28    male  33.000         3     no  southeast   4449.46200\n",
              "3   33    male  22.705         0     no  northwest  21984.47061\n",
              "4   32    male  28.880         0     no  northwest   3866.85520"
            ],
            "text/html": [
              "\n",
              "  <div id=\"df-655ae4e9-5c07-4001-9125-bc368ee63653\">\n",
              "    <div class=\"colab-df-container\">\n",
              "      <div>\n",
              "<style scoped>\n",
              "    .dataframe tbody tr th:only-of-type {\n",
              "        vertical-align: middle;\n",
              "    }\n",
              "\n",
              "    .dataframe tbody tr th {\n",
              "        vertical-align: top;\n",
              "    }\n",
              "\n",
              "    .dataframe thead th {\n",
              "        text-align: right;\n",
              "    }\n",
              "</style>\n",
              "<table border=\"1\" class=\"dataframe\">\n",
              "  <thead>\n",
              "    <tr style=\"text-align: right;\">\n",
              "      <th></th>\n",
              "      <th>age</th>\n",
              "      <th>sex</th>\n",
              "      <th>bmi</th>\n",
              "      <th>children</th>\n",
              "      <th>smoker</th>\n",
              "      <th>region</th>\n",
              "      <th>charges</th>\n",
              "    </tr>\n",
              "  </thead>\n",
              "  <tbody>\n",
              "    <tr>\n",
              "      <th>0</th>\n",
              "      <td>19</td>\n",
              "      <td>female</td>\n",
              "      <td>27.900</td>\n",
              "      <td>0</td>\n",
              "      <td>yes</td>\n",
              "      <td>southwest</td>\n",
              "      <td>16884.92400</td>\n",
              "    </tr>\n",
              "    <tr>\n",
              "      <th>1</th>\n",
              "      <td>18</td>\n",
              "      <td>male</td>\n",
              "      <td>33.770</td>\n",
              "      <td>1</td>\n",
              "      <td>no</td>\n",
              "      <td>southeast</td>\n",
              "      <td>1725.55230</td>\n",
              "    </tr>\n",
              "    <tr>\n",
              "      <th>2</th>\n",
              "      <td>28</td>\n",
              "      <td>male</td>\n",
              "      <td>33.000</td>\n",
              "      <td>3</td>\n",
              "      <td>no</td>\n",
              "      <td>southeast</td>\n",
              "      <td>4449.46200</td>\n",
              "    </tr>\n",
              "    <tr>\n",
              "      <th>3</th>\n",
              "      <td>33</td>\n",
              "      <td>male</td>\n",
              "      <td>22.705</td>\n",
              "      <td>0</td>\n",
              "      <td>no</td>\n",
              "      <td>northwest</td>\n",
              "      <td>21984.47061</td>\n",
              "    </tr>\n",
              "    <tr>\n",
              "      <th>4</th>\n",
              "      <td>32</td>\n",
              "      <td>male</td>\n",
              "      <td>28.880</td>\n",
              "      <td>0</td>\n",
              "      <td>no</td>\n",
              "      <td>northwest</td>\n",
              "      <td>3866.85520</td>\n",
              "    </tr>\n",
              "  </tbody>\n",
              "</table>\n",
              "</div>\n",
              "      <button class=\"colab-df-convert\" onclick=\"convertToInteractive('df-655ae4e9-5c07-4001-9125-bc368ee63653')\"\n",
              "              title=\"Convert this dataframe to an interactive table.\"\n",
              "              style=\"display:none;\">\n",
              "        \n",
              "  <svg xmlns=\"http://www.w3.org/2000/svg\" height=\"24px\"viewBox=\"0 0 24 24\"\n",
              "       width=\"24px\">\n",
              "    <path d=\"M0 0h24v24H0V0z\" fill=\"none\"/>\n",
              "    <path d=\"M18.56 5.44l.94 2.06.94-2.06 2.06-.94-2.06-.94-.94-2.06-.94 2.06-2.06.94zm-11 1L8.5 8.5l.94-2.06 2.06-.94-2.06-.94L8.5 2.5l-.94 2.06-2.06.94zm10 10l.94 2.06.94-2.06 2.06-.94-2.06-.94-.94-2.06-.94 2.06-2.06.94z\"/><path d=\"M17.41 7.96l-1.37-1.37c-.4-.4-.92-.59-1.43-.59-.52 0-1.04.2-1.43.59L10.3 9.45l-7.72 7.72c-.78.78-.78 2.05 0 2.83L4 21.41c.39.39.9.59 1.41.59.51 0 1.02-.2 1.41-.59l7.78-7.78 2.81-2.81c.8-.78.8-2.07 0-2.86zM5.41 20L4 18.59l7.72-7.72 1.47 1.35L5.41 20z\"/>\n",
              "  </svg>\n",
              "      </button>\n",
              "      \n",
              "  <style>\n",
              "    .colab-df-container {\n",
              "      display:flex;\n",
              "      flex-wrap:wrap;\n",
              "      gap: 12px;\n",
              "    }\n",
              "\n",
              "    .colab-df-convert {\n",
              "      background-color: #E8F0FE;\n",
              "      border: none;\n",
              "      border-radius: 50%;\n",
              "      cursor: pointer;\n",
              "      display: none;\n",
              "      fill: #1967D2;\n",
              "      height: 32px;\n",
              "      padding: 0 0 0 0;\n",
              "      width: 32px;\n",
              "    }\n",
              "\n",
              "    .colab-df-convert:hover {\n",
              "      background-color: #E2EBFA;\n",
              "      box-shadow: 0px 1px 2px rgba(60, 64, 67, 0.3), 0px 1px 3px 1px rgba(60, 64, 67, 0.15);\n",
              "      fill: #174EA6;\n",
              "    }\n",
              "\n",
              "    [theme=dark] .colab-df-convert {\n",
              "      background-color: #3B4455;\n",
              "      fill: #D2E3FC;\n",
              "    }\n",
              "\n",
              "    [theme=dark] .colab-df-convert:hover {\n",
              "      background-color: #434B5C;\n",
              "      box-shadow: 0px 1px 3px 1px rgba(0, 0, 0, 0.15);\n",
              "      filter: drop-shadow(0px 1px 2px rgba(0, 0, 0, 0.3));\n",
              "      fill: #FFFFFF;\n",
              "    }\n",
              "  </style>\n",
              "\n",
              "      <script>\n",
              "        const buttonEl =\n",
              "          document.querySelector('#df-655ae4e9-5c07-4001-9125-bc368ee63653 button.colab-df-convert');\n",
              "        buttonEl.style.display =\n",
              "          google.colab.kernel.accessAllowed ? 'block' : 'none';\n",
              "\n",
              "        async function convertToInteractive(key) {\n",
              "          const element = document.querySelector('#df-655ae4e9-5c07-4001-9125-bc368ee63653');\n",
              "          const dataTable =\n",
              "            await google.colab.kernel.invokeFunction('convertToInteractive',\n",
              "                                                     [key], {});\n",
              "          if (!dataTable) return;\n",
              "\n",
              "          const docLinkHtml = 'Like what you see? Visit the ' +\n",
              "            '<a target=\"_blank\" href=https://colab.research.google.com/notebooks/data_table.ipynb>data table notebook</a>'\n",
              "            + ' to learn more about interactive tables.';\n",
              "          element.innerHTML = '';\n",
              "          dataTable['output_type'] = 'display_data';\n",
              "          await google.colab.output.renderOutput(dataTable, element);\n",
              "          const docLink = document.createElement('div');\n",
              "          docLink.innerHTML = docLinkHtml;\n",
              "          element.appendChild(docLink);\n",
              "        }\n",
              "      </script>\n",
              "    </div>\n",
              "  </div>\n",
              "  "
            ]
          },
          "metadata": {},
          "execution_count": 36
        }
      ]
    },
    {
      "cell_type": "code",
      "source": [
        "#one-hot encode our Dataframe so it's all numbers\n",
        "insurance_csv_one_hot =pd.get_dummies(insurance_csv)\n",
        "insurance_csv_one_hot"
      ],
      "metadata": {
        "colab": {
          "base_uri": "https://localhost:8080/",
          "height": 488
        },
        "id": "lchRlVE3CQGN",
        "outputId": "eb66df34-ac92-46fc-8d99-5ee97d276f00"
      },
      "execution_count": null,
      "outputs": [
        {
          "output_type": "execute_result",
          "data": {
            "text/plain": [
              "      age     bmi  children      charges  sex_female  sex_male  smoker_no  \\\n",
              "0      19  27.900         0  16884.92400           1         0          0   \n",
              "1      18  33.770         1   1725.55230           0         1          1   \n",
              "2      28  33.000         3   4449.46200           0         1          1   \n",
              "3      33  22.705         0  21984.47061           0         1          1   \n",
              "4      32  28.880         0   3866.85520           0         1          1   \n",
              "...   ...     ...       ...          ...         ...       ...        ...   \n",
              "1333   50  30.970         3  10600.54830           0         1          1   \n",
              "1334   18  31.920         0   2205.98080           1         0          1   \n",
              "1335   18  36.850         0   1629.83350           1         0          1   \n",
              "1336   21  25.800         0   2007.94500           1         0          1   \n",
              "1337   61  29.070         0  29141.36030           1         0          0   \n",
              "\n",
              "      smoker_yes  region_northeast  region_northwest  region_southeast  \\\n",
              "0              1                 0                 0                 0   \n",
              "1              0                 0                 0                 1   \n",
              "2              0                 0                 0                 1   \n",
              "3              0                 0                 1                 0   \n",
              "4              0                 0                 1                 0   \n",
              "...          ...               ...               ...               ...   \n",
              "1333           0                 0                 1                 0   \n",
              "1334           0                 1                 0                 0   \n",
              "1335           0                 0                 0                 1   \n",
              "1336           0                 0                 0                 0   \n",
              "1337           1                 0                 1                 0   \n",
              "\n",
              "      region_southwest  \n",
              "0                    1  \n",
              "1                    0  \n",
              "2                    0  \n",
              "3                    0  \n",
              "4                    0  \n",
              "...                ...  \n",
              "1333                 0  \n",
              "1334                 0  \n",
              "1335                 0  \n",
              "1336                 1  \n",
              "1337                 0  \n",
              "\n",
              "[1338 rows x 12 columns]"
            ],
            "text/html": [
              "\n",
              "  <div id=\"df-998e877a-7a41-4dfe-88af-6bc301c712d3\">\n",
              "    <div class=\"colab-df-container\">\n",
              "      <div>\n",
              "<style scoped>\n",
              "    .dataframe tbody tr th:only-of-type {\n",
              "        vertical-align: middle;\n",
              "    }\n",
              "\n",
              "    .dataframe tbody tr th {\n",
              "        vertical-align: top;\n",
              "    }\n",
              "\n",
              "    .dataframe thead th {\n",
              "        text-align: right;\n",
              "    }\n",
              "</style>\n",
              "<table border=\"1\" class=\"dataframe\">\n",
              "  <thead>\n",
              "    <tr style=\"text-align: right;\">\n",
              "      <th></th>\n",
              "      <th>age</th>\n",
              "      <th>bmi</th>\n",
              "      <th>children</th>\n",
              "      <th>charges</th>\n",
              "      <th>sex_female</th>\n",
              "      <th>sex_male</th>\n",
              "      <th>smoker_no</th>\n",
              "      <th>smoker_yes</th>\n",
              "      <th>region_northeast</th>\n",
              "      <th>region_northwest</th>\n",
              "      <th>region_southeast</th>\n",
              "      <th>region_southwest</th>\n",
              "    </tr>\n",
              "  </thead>\n",
              "  <tbody>\n",
              "    <tr>\n",
              "      <th>0</th>\n",
              "      <td>19</td>\n",
              "      <td>27.900</td>\n",
              "      <td>0</td>\n",
              "      <td>16884.92400</td>\n",
              "      <td>1</td>\n",
              "      <td>0</td>\n",
              "      <td>0</td>\n",
              "      <td>1</td>\n",
              "      <td>0</td>\n",
              "      <td>0</td>\n",
              "      <td>0</td>\n",
              "      <td>1</td>\n",
              "    </tr>\n",
              "    <tr>\n",
              "      <th>1</th>\n",
              "      <td>18</td>\n",
              "      <td>33.770</td>\n",
              "      <td>1</td>\n",
              "      <td>1725.55230</td>\n",
              "      <td>0</td>\n",
              "      <td>1</td>\n",
              "      <td>1</td>\n",
              "      <td>0</td>\n",
              "      <td>0</td>\n",
              "      <td>0</td>\n",
              "      <td>1</td>\n",
              "      <td>0</td>\n",
              "    </tr>\n",
              "    <tr>\n",
              "      <th>2</th>\n",
              "      <td>28</td>\n",
              "      <td>33.000</td>\n",
              "      <td>3</td>\n",
              "      <td>4449.46200</td>\n",
              "      <td>0</td>\n",
              "      <td>1</td>\n",
              "      <td>1</td>\n",
              "      <td>0</td>\n",
              "      <td>0</td>\n",
              "      <td>0</td>\n",
              "      <td>1</td>\n",
              "      <td>0</td>\n",
              "    </tr>\n",
              "    <tr>\n",
              "      <th>3</th>\n",
              "      <td>33</td>\n",
              "      <td>22.705</td>\n",
              "      <td>0</td>\n",
              "      <td>21984.47061</td>\n",
              "      <td>0</td>\n",
              "      <td>1</td>\n",
              "      <td>1</td>\n",
              "      <td>0</td>\n",
              "      <td>0</td>\n",
              "      <td>1</td>\n",
              "      <td>0</td>\n",
              "      <td>0</td>\n",
              "    </tr>\n",
              "    <tr>\n",
              "      <th>4</th>\n",
              "      <td>32</td>\n",
              "      <td>28.880</td>\n",
              "      <td>0</td>\n",
              "      <td>3866.85520</td>\n",
              "      <td>0</td>\n",
              "      <td>1</td>\n",
              "      <td>1</td>\n",
              "      <td>0</td>\n",
              "      <td>0</td>\n",
              "      <td>1</td>\n",
              "      <td>0</td>\n",
              "      <td>0</td>\n",
              "    </tr>\n",
              "    <tr>\n",
              "      <th>...</th>\n",
              "      <td>...</td>\n",
              "      <td>...</td>\n",
              "      <td>...</td>\n",
              "      <td>...</td>\n",
              "      <td>...</td>\n",
              "      <td>...</td>\n",
              "      <td>...</td>\n",
              "      <td>...</td>\n",
              "      <td>...</td>\n",
              "      <td>...</td>\n",
              "      <td>...</td>\n",
              "      <td>...</td>\n",
              "    </tr>\n",
              "    <tr>\n",
              "      <th>1333</th>\n",
              "      <td>50</td>\n",
              "      <td>30.970</td>\n",
              "      <td>3</td>\n",
              "      <td>10600.54830</td>\n",
              "      <td>0</td>\n",
              "      <td>1</td>\n",
              "      <td>1</td>\n",
              "      <td>0</td>\n",
              "      <td>0</td>\n",
              "      <td>1</td>\n",
              "      <td>0</td>\n",
              "      <td>0</td>\n",
              "    </tr>\n",
              "    <tr>\n",
              "      <th>1334</th>\n",
              "      <td>18</td>\n",
              "      <td>31.920</td>\n",
              "      <td>0</td>\n",
              "      <td>2205.98080</td>\n",
              "      <td>1</td>\n",
              "      <td>0</td>\n",
              "      <td>1</td>\n",
              "      <td>0</td>\n",
              "      <td>1</td>\n",
              "      <td>0</td>\n",
              "      <td>0</td>\n",
              "      <td>0</td>\n",
              "    </tr>\n",
              "    <tr>\n",
              "      <th>1335</th>\n",
              "      <td>18</td>\n",
              "      <td>36.850</td>\n",
              "      <td>0</td>\n",
              "      <td>1629.83350</td>\n",
              "      <td>1</td>\n",
              "      <td>0</td>\n",
              "      <td>1</td>\n",
              "      <td>0</td>\n",
              "      <td>0</td>\n",
              "      <td>0</td>\n",
              "      <td>1</td>\n",
              "      <td>0</td>\n",
              "    </tr>\n",
              "    <tr>\n",
              "      <th>1336</th>\n",
              "      <td>21</td>\n",
              "      <td>25.800</td>\n",
              "      <td>0</td>\n",
              "      <td>2007.94500</td>\n",
              "      <td>1</td>\n",
              "      <td>0</td>\n",
              "      <td>1</td>\n",
              "      <td>0</td>\n",
              "      <td>0</td>\n",
              "      <td>0</td>\n",
              "      <td>0</td>\n",
              "      <td>1</td>\n",
              "    </tr>\n",
              "    <tr>\n",
              "      <th>1337</th>\n",
              "      <td>61</td>\n",
              "      <td>29.070</td>\n",
              "      <td>0</td>\n",
              "      <td>29141.36030</td>\n",
              "      <td>1</td>\n",
              "      <td>0</td>\n",
              "      <td>0</td>\n",
              "      <td>1</td>\n",
              "      <td>0</td>\n",
              "      <td>1</td>\n",
              "      <td>0</td>\n",
              "      <td>0</td>\n",
              "    </tr>\n",
              "  </tbody>\n",
              "</table>\n",
              "<p>1338 rows × 12 columns</p>\n",
              "</div>\n",
              "      <button class=\"colab-df-convert\" onclick=\"convertToInteractive('df-998e877a-7a41-4dfe-88af-6bc301c712d3')\"\n",
              "              title=\"Convert this dataframe to an interactive table.\"\n",
              "              style=\"display:none;\">\n",
              "        \n",
              "  <svg xmlns=\"http://www.w3.org/2000/svg\" height=\"24px\"viewBox=\"0 0 24 24\"\n",
              "       width=\"24px\">\n",
              "    <path d=\"M0 0h24v24H0V0z\" fill=\"none\"/>\n",
              "    <path d=\"M18.56 5.44l.94 2.06.94-2.06 2.06-.94-2.06-.94-.94-2.06-.94 2.06-2.06.94zm-11 1L8.5 8.5l.94-2.06 2.06-.94-2.06-.94L8.5 2.5l-.94 2.06-2.06.94zm10 10l.94 2.06.94-2.06 2.06-.94-2.06-.94-.94-2.06-.94 2.06-2.06.94z\"/><path d=\"M17.41 7.96l-1.37-1.37c-.4-.4-.92-.59-1.43-.59-.52 0-1.04.2-1.43.59L10.3 9.45l-7.72 7.72c-.78.78-.78 2.05 0 2.83L4 21.41c.39.39.9.59 1.41.59.51 0 1.02-.2 1.41-.59l7.78-7.78 2.81-2.81c.8-.78.8-2.07 0-2.86zM5.41 20L4 18.59l7.72-7.72 1.47 1.35L5.41 20z\"/>\n",
              "  </svg>\n",
              "      </button>\n",
              "      \n",
              "  <style>\n",
              "    .colab-df-container {\n",
              "      display:flex;\n",
              "      flex-wrap:wrap;\n",
              "      gap: 12px;\n",
              "    }\n",
              "\n",
              "    .colab-df-convert {\n",
              "      background-color: #E8F0FE;\n",
              "      border: none;\n",
              "      border-radius: 50%;\n",
              "      cursor: pointer;\n",
              "      display: none;\n",
              "      fill: #1967D2;\n",
              "      height: 32px;\n",
              "      padding: 0 0 0 0;\n",
              "      width: 32px;\n",
              "    }\n",
              "\n",
              "    .colab-df-convert:hover {\n",
              "      background-color: #E2EBFA;\n",
              "      box-shadow: 0px 1px 2px rgba(60, 64, 67, 0.3), 0px 1px 3px 1px rgba(60, 64, 67, 0.15);\n",
              "      fill: #174EA6;\n",
              "    }\n",
              "\n",
              "    [theme=dark] .colab-df-convert {\n",
              "      background-color: #3B4455;\n",
              "      fill: #D2E3FC;\n",
              "    }\n",
              "\n",
              "    [theme=dark] .colab-df-convert:hover {\n",
              "      background-color: #434B5C;\n",
              "      box-shadow: 0px 1px 3px 1px rgba(0, 0, 0, 0.15);\n",
              "      filter: drop-shadow(0px 1px 2px rgba(0, 0, 0, 0.3));\n",
              "      fill: #FFFFFF;\n",
              "    }\n",
              "  </style>\n",
              "\n",
              "      <script>\n",
              "        const buttonEl =\n",
              "          document.querySelector('#df-998e877a-7a41-4dfe-88af-6bc301c712d3 button.colab-df-convert');\n",
              "        buttonEl.style.display =\n",
              "          google.colab.kernel.accessAllowed ? 'block' : 'none';\n",
              "\n",
              "        async function convertToInteractive(key) {\n",
              "          const element = document.querySelector('#df-998e877a-7a41-4dfe-88af-6bc301c712d3');\n",
              "          const dataTable =\n",
              "            await google.colab.kernel.invokeFunction('convertToInteractive',\n",
              "                                                     [key], {});\n",
              "          if (!dataTable) return;\n",
              "\n",
              "          const docLinkHtml = 'Like what you see? Visit the ' +\n",
              "            '<a target=\"_blank\" href=https://colab.research.google.com/notebooks/data_table.ipynb>data table notebook</a>'\n",
              "            + ' to learn more about interactive tables.';\n",
              "          element.innerHTML = '';\n",
              "          dataTable['output_type'] = 'display_data';\n",
              "          await google.colab.output.renderOutput(dataTable, element);\n",
              "          const docLink = document.createElement('div');\n",
              "          docLink.innerHTML = docLinkHtml;\n",
              "          element.appendChild(docLink);\n",
              "        }\n",
              "      </script>\n",
              "    </div>\n",
              "  </div>\n",
              "  "
            ]
          },
          "metadata": {},
          "execution_count": 37
        }
      ]
    },
    {
      "cell_type": "code",
      "source": [
        "X = insurance_csv_one_hot.drop(\"charges\",axis=1)\n",
        "y = insurance_csv_one_hot[\"charges\"]"
      ],
      "metadata": {
        "id": "NZ-ozyDuG4U1"
      },
      "execution_count": null,
      "outputs": []
    },
    {
      "cell_type": "code",
      "source": [
        "from sklearn.model_selection import train_test_split\n",
        "X_train, X_test , y_train , y_test = train_test_split(X, y, test_size=0.2, random_state = 42)"
      ],
      "metadata": {
        "id": "72c4_ObEIJkc"
      },
      "execution_count": null,
      "outputs": []
    },
    {
      "cell_type": "code",
      "source": [
        "len(X),len(X_train), len(X_test)"
      ],
      "metadata": {
        "colab": {
          "base_uri": "https://localhost:8080/"
        },
        "id": "pgbJp0lAItRa",
        "outputId": "9f36445d-3ac6-4165-d704-17fd0ef6bce9"
      },
      "execution_count": null,
      "outputs": [
        {
          "output_type": "execute_result",
          "data": {
            "text/plain": [
              "(1338, 1070, 268)"
            ]
          },
          "metadata": {},
          "execution_count": 40
        }
      ]
    },
    {
      "cell_type": "code",
      "source": [
        "len(y),len(y_train), len(y_test)"
      ],
      "metadata": {
        "colab": {
          "base_uri": "https://localhost:8080/"
        },
        "id": "6eBuNL6_I2BG",
        "outputId": "1c5fe692-eb04-4510-f8fd-c43cf8ee08ae"
      },
      "execution_count": null,
      "outputs": [
        {
          "output_type": "execute_result",
          "data": {
            "text/plain": [
              "(1338, 1070, 268)"
            ]
          },
          "metadata": {},
          "execution_count": 41
        }
      ]
    },
    {
      "cell_type": "code",
      "source": [
        "tf.random.set_seed(11)\n",
        "\n",
        "insurance_model = tf.keras.Sequential([\n",
        "    tf.keras.layers.Dense(100),\n",
        "    tf.keras.layers.Dense(10),\n",
        "    tf.keras.layers.Dense(1)\n",
        "    ])\n",
        "\n",
        "insurance_model.compile(loss=tf.keras.losses.mae,\n",
        "                        optimizer = tf.keras.optimizers.SGD(),\n",
        "                        metrics=[\"mae\"])\n",
        "\n",
        "insurance_model.fit(tf.expand_dims(X_train, axis=-1), y_train, epochs=200)"
      ],
      "metadata": {
        "id": "akJ_0sE4I4tl",
        "colab": {
          "base_uri": "https://localhost:8080/"
        },
        "outputId": "1c1bd815-f1a2-4bfb-e203-107fea936e89"
      },
      "execution_count": null,
      "outputs": [
        {
          "output_type": "stream",
          "name": "stdout",
          "text": [
            "Epoch 1/200\n",
            "34/34 [==============================] - 1s 2ms/step - loss: 12571.1523 - mae: 12571.1523\n",
            "Epoch 2/200\n",
            "34/34 [==============================] - 0s 2ms/step - loss: 11739.2607 - mae: 11739.2607\n",
            "Epoch 3/200\n",
            "34/34 [==============================] - 0s 2ms/step - loss: 10962.1592 - mae: 10962.1592\n",
            "Epoch 4/200\n",
            "34/34 [==============================] - 0s 2ms/step - loss: 10732.0635 - mae: 10732.0635\n",
            "Epoch 5/200\n",
            "34/34 [==============================] - 0s 2ms/step - loss: 10065.7891 - mae: 10065.7891\n",
            "Epoch 6/200\n",
            "34/34 [==============================] - 0s 3ms/step - loss: 10424.8359 - mae: 10424.8359\n",
            "Epoch 7/200\n",
            "34/34 [==============================] - 0s 2ms/step - loss: 9573.1133 - mae: 9573.1133\n",
            "Epoch 8/200\n",
            "34/34 [==============================] - 0s 2ms/step - loss: 10770.9473 - mae: 10770.9473\n",
            "Epoch 9/200\n",
            "34/34 [==============================] - 0s 2ms/step - loss: 10013.5322 - mae: 10013.5322\n",
            "Epoch 10/200\n",
            "34/34 [==============================] - 0s 2ms/step - loss: 9998.3379 - mae: 9998.3379\n",
            "Epoch 11/200\n",
            "34/34 [==============================] - 0s 2ms/step - loss: 9286.9668 - mae: 9286.9668\n",
            "Epoch 12/200\n",
            "34/34 [==============================] - 0s 3ms/step - loss: 9441.5410 - mae: 9441.5410\n",
            "Epoch 13/200\n",
            "34/34 [==============================] - 0s 2ms/step - loss: 8926.9814 - mae: 8926.9814\n",
            "Epoch 14/200\n",
            "34/34 [==============================] - 0s 2ms/step - loss: 10293.2480 - mae: 10293.2480\n",
            "Epoch 15/200\n",
            "34/34 [==============================] - 0s 2ms/step - loss: 9571.7539 - mae: 9571.7539\n",
            "Epoch 16/200\n",
            "34/34 [==============================] - 0s 2ms/step - loss: 9282.5068 - mae: 9282.5068\n",
            "Epoch 17/200\n",
            "34/34 [==============================] - 0s 2ms/step - loss: 9573.7432 - mae: 9573.7432\n",
            "Epoch 18/200\n",
            "34/34 [==============================] - 0s 2ms/step - loss: 9434.9023 - mae: 9434.9023\n",
            "Epoch 19/200\n",
            "34/34 [==============================] - 0s 2ms/step - loss: 9661.9678 - mae: 9661.9678\n",
            "Epoch 20/200\n",
            "34/34 [==============================] - 0s 2ms/step - loss: 9997.5400 - mae: 9997.5400\n",
            "Epoch 21/200\n",
            "34/34 [==============================] - 0s 2ms/step - loss: 9754.1445 - mae: 9754.1445\n",
            "Epoch 22/200\n",
            "34/34 [==============================] - 0s 2ms/step - loss: 9216.6396 - mae: 9216.6396\n",
            "Epoch 23/200\n",
            "34/34 [==============================] - 0s 2ms/step - loss: 9337.8066 - mae: 9337.8066\n",
            "Epoch 24/200\n",
            "34/34 [==============================] - 0s 2ms/step - loss: 9410.0078 - mae: 9410.0078\n",
            "Epoch 25/200\n",
            "34/34 [==============================] - 0s 2ms/step - loss: 10391.1426 - mae: 10391.1426\n",
            "Epoch 26/200\n",
            "34/34 [==============================] - 0s 2ms/step - loss: 9962.7178 - mae: 9962.7178\n",
            "Epoch 27/200\n",
            "34/34 [==============================] - 0s 2ms/step - loss: 9405.1934 - mae: 9405.1934\n",
            "Epoch 28/200\n",
            "34/34 [==============================] - 0s 2ms/step - loss: 9875.6270 - mae: 9875.6270\n",
            "Epoch 29/200\n",
            "34/34 [==============================] - 0s 2ms/step - loss: 9533.2715 - mae: 9533.2715\n",
            "Epoch 30/200\n",
            "34/34 [==============================] - 0s 2ms/step - loss: 10560.9326 - mae: 10560.9326\n",
            "Epoch 31/200\n",
            "34/34 [==============================] - 0s 2ms/step - loss: 9939.5713 - mae: 9939.5713\n",
            "Epoch 32/200\n",
            "34/34 [==============================] - 0s 2ms/step - loss: 9272.8320 - mae: 9272.8320\n",
            "Epoch 33/200\n",
            "34/34 [==============================] - 0s 2ms/step - loss: 9408.3271 - mae: 9408.3271\n",
            "Epoch 34/200\n",
            "34/34 [==============================] - 0s 2ms/step - loss: 9609.5117 - mae: 9609.5117\n",
            "Epoch 35/200\n",
            "34/34 [==============================] - 0s 2ms/step - loss: 9135.2100 - mae: 9135.2100\n",
            "Epoch 36/200\n",
            "34/34 [==============================] - 0s 2ms/step - loss: 9578.3096 - mae: 9578.3096\n",
            "Epoch 37/200\n",
            "34/34 [==============================] - 0s 2ms/step - loss: 9822.2793 - mae: 9822.2793\n",
            "Epoch 38/200\n",
            "34/34 [==============================] - 0s 2ms/step - loss: 9969.3838 - mae: 9969.3838\n",
            "Epoch 39/200\n",
            "34/34 [==============================] - 0s 2ms/step - loss: 9856.1895 - mae: 9856.1895\n",
            "Epoch 40/200\n",
            "34/34 [==============================] - 0s 2ms/step - loss: 10308.0527 - mae: 10308.0527\n",
            "Epoch 41/200\n",
            "34/34 [==============================] - 0s 2ms/step - loss: 10124.4004 - mae: 10124.4004\n",
            "Epoch 42/200\n",
            "34/34 [==============================] - 0s 2ms/step - loss: 9635.1914 - mae: 9635.1914\n",
            "Epoch 43/200\n",
            "34/34 [==============================] - 0s 2ms/step - loss: 9471.2373 - mae: 9471.2373\n",
            "Epoch 44/200\n",
            "34/34 [==============================] - 0s 3ms/step - loss: 9687.3213 - mae: 9687.3213\n",
            "Epoch 45/200\n",
            "34/34 [==============================] - 0s 2ms/step - loss: 9831.9541 - mae: 9831.9541\n",
            "Epoch 46/200\n",
            "34/34 [==============================] - 0s 2ms/step - loss: 9429.5576 - mae: 9429.5576\n",
            "Epoch 47/200\n",
            "34/34 [==============================] - 0s 2ms/step - loss: 9747.4854 - mae: 9747.4854\n",
            "Epoch 48/200\n",
            "34/34 [==============================] - 0s 2ms/step - loss: 10425.1885 - mae: 10425.1885\n",
            "Epoch 49/200\n",
            "34/34 [==============================] - 0s 3ms/step - loss: 9428.9775 - mae: 9428.9775\n",
            "Epoch 50/200\n",
            "34/34 [==============================] - 0s 2ms/step - loss: 9847.1426 - mae: 9847.1426\n",
            "Epoch 51/200\n",
            "34/34 [==============================] - 0s 2ms/step - loss: 9634.1816 - mae: 9634.1816\n",
            "Epoch 52/200\n",
            "34/34 [==============================] - 0s 2ms/step - loss: 9374.7236 - mae: 9374.7236\n",
            "Epoch 53/200\n",
            "34/34 [==============================] - 0s 2ms/step - loss: 9064.1152 - mae: 9064.1152\n",
            "Epoch 54/200\n",
            "34/34 [==============================] - 0s 2ms/step - loss: 11181.1299 - mae: 11181.1299\n",
            "Epoch 55/200\n",
            "34/34 [==============================] - 0s 2ms/step - loss: 10379.7803 - mae: 10379.7803\n",
            "Epoch 56/200\n",
            "34/34 [==============================] - 0s 2ms/step - loss: 10067.4072 - mae: 10067.4072\n",
            "Epoch 57/200\n",
            "34/34 [==============================] - 0s 2ms/step - loss: 8894.4121 - mae: 8894.4121\n",
            "Epoch 58/200\n",
            "34/34 [==============================] - 0s 2ms/step - loss: 9404.6416 - mae: 9404.6416\n",
            "Epoch 59/200\n",
            "34/34 [==============================] - 0s 2ms/step - loss: 10495.0166 - mae: 10495.0166\n",
            "Epoch 60/200\n",
            "34/34 [==============================] - 0s 2ms/step - loss: 10452.0732 - mae: 10452.0732\n",
            "Epoch 61/200\n",
            "34/34 [==============================] - 0s 2ms/step - loss: 9715.4785 - mae: 9715.4785\n",
            "Epoch 62/200\n",
            "34/34 [==============================] - 0s 2ms/step - loss: 9463.1416 - mae: 9463.1416\n",
            "Epoch 63/200\n",
            "34/34 [==============================] - 0s 2ms/step - loss: 10228.9961 - mae: 10228.9961\n",
            "Epoch 64/200\n",
            "34/34 [==============================] - 0s 2ms/step - loss: 9507.2373 - mae: 9507.2373\n",
            "Epoch 65/200\n",
            "34/34 [==============================] - 0s 2ms/step - loss: 9246.5850 - mae: 9246.5850\n",
            "Epoch 66/200\n",
            "34/34 [==============================] - 0s 2ms/step - loss: 9477.7100 - mae: 9477.7100\n",
            "Epoch 67/200\n",
            "34/34 [==============================] - 0s 2ms/step - loss: 9498.2441 - mae: 9498.2441\n",
            "Epoch 68/200\n",
            "34/34 [==============================] - 0s 2ms/step - loss: 9602.2275 - mae: 9602.2275\n",
            "Epoch 69/200\n",
            "34/34 [==============================] - 0s 2ms/step - loss: 10054.5156 - mae: 10054.5156\n",
            "Epoch 70/200\n",
            "34/34 [==============================] - 0s 2ms/step - loss: 10186.2324 - mae: 10186.2324\n",
            "Epoch 71/200\n",
            "34/34 [==============================] - 0s 2ms/step - loss: 10746.1504 - mae: 10746.1504\n",
            "Epoch 72/200\n",
            "34/34 [==============================] - 0s 2ms/step - loss: 9574.7773 - mae: 9574.7773\n",
            "Epoch 73/200\n",
            "34/34 [==============================] - 0s 2ms/step - loss: 10045.8066 - mae: 10045.8066\n",
            "Epoch 74/200\n",
            "34/34 [==============================] - 0s 2ms/step - loss: 9920.9756 - mae: 9920.9756\n",
            "Epoch 75/200\n",
            "34/34 [==============================] - 0s 2ms/step - loss: 9928.9014 - mae: 9928.9014\n",
            "Epoch 76/200\n",
            "34/34 [==============================] - 0s 2ms/step - loss: 9820.4639 - mae: 9820.4639\n",
            "Epoch 77/200\n",
            "34/34 [==============================] - 0s 3ms/step - loss: 9648.8477 - mae: 9648.8477\n",
            "Epoch 78/200\n",
            "34/34 [==============================] - 0s 2ms/step - loss: 9603.9932 - mae: 9603.9932\n",
            "Epoch 79/200\n",
            "34/34 [==============================] - 0s 2ms/step - loss: 9813.5322 - mae: 9813.5322\n",
            "Epoch 80/200\n",
            "34/34 [==============================] - 0s 2ms/step - loss: 9785.7852 - mae: 9785.7852\n",
            "Epoch 81/200\n",
            "34/34 [==============================] - 0s 2ms/step - loss: 9618.8477 - mae: 9618.8477\n",
            "Epoch 82/200\n",
            "34/34 [==============================] - 0s 2ms/step - loss: 8878.2500 - mae: 8878.2500\n",
            "Epoch 83/200\n",
            "34/34 [==============================] - 0s 2ms/step - loss: 9226.3711 - mae: 9226.3711\n",
            "Epoch 84/200\n",
            "34/34 [==============================] - 0s 2ms/step - loss: 10409.3369 - mae: 10409.3369\n",
            "Epoch 85/200\n",
            "34/34 [==============================] - 0s 2ms/step - loss: 10264.3779 - mae: 10264.3779\n",
            "Epoch 86/200\n",
            "34/34 [==============================] - 0s 2ms/step - loss: 10811.8193 - mae: 10811.8193\n",
            "Epoch 87/200\n",
            "34/34 [==============================] - 0s 2ms/step - loss: 9374.9365 - mae: 9374.9365\n",
            "Epoch 88/200\n",
            "34/34 [==============================] - 0s 2ms/step - loss: 9359.0918 - mae: 9359.0918\n",
            "Epoch 89/200\n",
            "34/34 [==============================] - 0s 2ms/step - loss: 9629.3613 - mae: 9629.3613\n",
            "Epoch 90/200\n",
            "34/34 [==============================] - 0s 2ms/step - loss: 10204.8760 - mae: 10204.8760\n",
            "Epoch 91/200\n",
            "34/34 [==============================] - 0s 2ms/step - loss: 9780.7275 - mae: 9780.7275\n",
            "Epoch 92/200\n",
            "34/34 [==============================] - 0s 3ms/step - loss: 9442.2041 - mae: 9442.2041\n",
            "Epoch 93/200\n",
            "34/34 [==============================] - 0s 2ms/step - loss: 9749.1240 - mae: 9749.1240\n",
            "Epoch 94/200\n",
            "34/34 [==============================] - 0s 2ms/step - loss: 9459.3486 - mae: 9459.3486\n",
            "Epoch 95/200\n",
            "34/34 [==============================] - 0s 2ms/step - loss: 9203.4424 - mae: 9203.4424\n",
            "Epoch 96/200\n",
            "34/34 [==============================] - 0s 2ms/step - loss: 9505.1953 - mae: 9505.1953\n",
            "Epoch 97/200\n",
            "34/34 [==============================] - 0s 2ms/step - loss: 9912.7666 - mae: 9912.7666\n",
            "Epoch 98/200\n",
            "34/34 [==============================] - 0s 2ms/step - loss: 10721.8291 - mae: 10721.8291\n",
            "Epoch 99/200\n",
            "34/34 [==============================] - 0s 2ms/step - loss: 10124.8301 - mae: 10124.8301\n",
            "Epoch 100/200\n",
            "34/34 [==============================] - 0s 3ms/step - loss: 10863.0586 - mae: 10863.0586\n",
            "Epoch 101/200\n",
            "34/34 [==============================] - 0s 2ms/step - loss: 10212.4531 - mae: 10212.4531\n",
            "Epoch 102/200\n",
            "34/34 [==============================] - 0s 2ms/step - loss: 9960.8643 - mae: 9960.8643\n",
            "Epoch 103/200\n",
            "34/34 [==============================] - 0s 2ms/step - loss: 10373.9941 - mae: 10373.9941\n",
            "Epoch 104/200\n",
            "34/34 [==============================] - 0s 2ms/step - loss: 9324.5098 - mae: 9324.5098\n",
            "Epoch 105/200\n",
            "34/34 [==============================] - 0s 2ms/step - loss: 10638.7549 - mae: 10638.7549\n",
            "Epoch 106/200\n",
            "34/34 [==============================] - 0s 2ms/step - loss: 9452.8809 - mae: 9452.8809\n",
            "Epoch 107/200\n",
            "34/34 [==============================] - 0s 2ms/step - loss: 9896.8516 - mae: 9896.8516\n",
            "Epoch 108/200\n",
            "34/34 [==============================] - 0s 2ms/step - loss: 9394.6016 - mae: 9394.6016\n",
            "Epoch 109/200\n",
            "34/34 [==============================] - 0s 2ms/step - loss: 9747.3516 - mae: 9747.3516\n",
            "Epoch 110/200\n",
            "34/34 [==============================] - 0s 2ms/step - loss: 9289.4424 - mae: 9289.4424\n",
            "Epoch 111/200\n",
            "34/34 [==============================] - 0s 2ms/step - loss: 9478.7549 - mae: 9478.7549\n",
            "Epoch 112/200\n",
            "34/34 [==============================] - 0s 2ms/step - loss: 10175.8350 - mae: 10175.8350\n",
            "Epoch 113/200\n",
            "34/34 [==============================] - 0s 2ms/step - loss: 10475.7100 - mae: 10475.7100\n",
            "Epoch 114/200\n",
            "34/34 [==============================] - 0s 2ms/step - loss: 9976.5908 - mae: 9976.5908\n",
            "Epoch 115/200\n",
            "34/34 [==============================] - 0s 2ms/step - loss: 9526.3330 - mae: 9526.3330\n",
            "Epoch 116/200\n",
            "34/34 [==============================] - 0s 3ms/step - loss: 9412.2100 - mae: 9412.2100\n",
            "Epoch 117/200\n",
            "34/34 [==============================] - 0s 2ms/step - loss: 9607.8838 - mae: 9607.8838\n",
            "Epoch 118/200\n",
            "34/34 [==============================] - 0s 2ms/step - loss: 10898.5459 - mae: 10898.5459\n",
            "Epoch 119/200\n",
            "34/34 [==============================] - 0s 2ms/step - loss: 10551.6064 - mae: 10551.6064\n",
            "Epoch 120/200\n",
            "34/34 [==============================] - 0s 2ms/step - loss: 9494.5850 - mae: 9494.5850\n",
            "Epoch 121/200\n",
            "34/34 [==============================] - 0s 2ms/step - loss: 10286.1426 - mae: 10286.1426\n",
            "Epoch 122/200\n",
            "34/34 [==============================] - 0s 3ms/step - loss: 10459.5215 - mae: 10459.5215\n",
            "Epoch 123/200\n",
            "34/34 [==============================] - 0s 2ms/step - loss: 9441.0146 - mae: 9441.0146\n",
            "Epoch 124/200\n",
            "34/34 [==============================] - 0s 2ms/step - loss: 10847.3926 - mae: 10847.3926\n",
            "Epoch 125/200\n",
            "34/34 [==============================] - 0s 2ms/step - loss: 10159.2842 - mae: 10159.2842\n",
            "Epoch 126/200\n",
            "34/34 [==============================] - 0s 2ms/step - loss: 10211.6016 - mae: 10211.6016\n",
            "Epoch 127/200\n",
            "34/34 [==============================] - 0s 2ms/step - loss: 9383.9434 - mae: 9383.9434\n",
            "Epoch 128/200\n",
            "34/34 [==============================] - 0s 2ms/step - loss: 9626.3174 - mae: 9626.3174\n",
            "Epoch 129/200\n",
            "34/34 [==============================] - 0s 2ms/step - loss: 9599.6592 - mae: 9599.6592\n",
            "Epoch 130/200\n",
            "34/34 [==============================] - 0s 2ms/step - loss: 9319.5322 - mae: 9319.5322\n",
            "Epoch 131/200\n",
            "34/34 [==============================] - 0s 2ms/step - loss: 10020.6387 - mae: 10020.6387\n",
            "Epoch 132/200\n",
            "34/34 [==============================] - 0s 2ms/step - loss: 9426.9980 - mae: 9426.9980\n",
            "Epoch 133/200\n",
            "34/34 [==============================] - 0s 2ms/step - loss: 9780.2080 - mae: 9780.2080\n",
            "Epoch 134/200\n",
            "34/34 [==============================] - 0s 2ms/step - loss: 9572.7783 - mae: 9572.7783\n",
            "Epoch 135/200\n",
            "34/34 [==============================] - 0s 2ms/step - loss: 9733.1094 - mae: 9733.1094\n",
            "Epoch 136/200\n",
            "34/34 [==============================] - 0s 2ms/step - loss: 9691.2939 - mae: 9691.2939\n",
            "Epoch 137/200\n",
            "34/34 [==============================] - 0s 2ms/step - loss: 10146.0459 - mae: 10146.0459\n",
            "Epoch 138/200\n",
            "34/34 [==============================] - 0s 2ms/step - loss: 9736.5820 - mae: 9736.5820\n",
            "Epoch 139/200\n",
            "34/34 [==============================] - 0s 2ms/step - loss: 9380.1855 - mae: 9380.1855\n",
            "Epoch 140/200\n",
            "34/34 [==============================] - 0s 3ms/step - loss: 9232.1221 - mae: 9232.1221\n",
            "Epoch 141/200\n",
            "34/34 [==============================] - 0s 3ms/step - loss: 9923.1211 - mae: 9923.1211\n",
            "Epoch 142/200\n",
            "34/34 [==============================] - 0s 5ms/step - loss: 9670.9258 - mae: 9670.9258\n",
            "Epoch 143/200\n",
            "34/34 [==============================] - 0s 7ms/step - loss: 9889.9688 - mae: 9889.9688\n",
            "Epoch 144/200\n",
            "34/34 [==============================] - 0s 5ms/step - loss: 9558.1914 - mae: 9558.1914\n",
            "Epoch 145/200\n",
            "34/34 [==============================] - 0s 3ms/step - loss: 9653.9463 - mae: 9653.9463\n",
            "Epoch 146/200\n",
            "34/34 [==============================] - 0s 5ms/step - loss: 9393.7998 - mae: 9393.7998\n",
            "Epoch 147/200\n",
            "34/34 [==============================] - 0s 4ms/step - loss: 9154.7822 - mae: 9154.7822\n",
            "Epoch 148/200\n",
            "34/34 [==============================] - 0s 3ms/step - loss: 9507.0059 - mae: 9507.0059\n",
            "Epoch 149/200\n",
            "34/34 [==============================] - 0s 2ms/step - loss: 9438.5010 - mae: 9438.5010\n",
            "Epoch 150/200\n",
            "34/34 [==============================] - 0s 2ms/step - loss: 9566.0166 - mae: 9566.0166\n",
            "Epoch 151/200\n",
            "34/34 [==============================] - 0s 2ms/step - loss: 9605.3301 - mae: 9605.3301\n",
            "Epoch 152/200\n",
            "34/34 [==============================] - 0s 2ms/step - loss: 9615.6016 - mae: 9615.6016\n",
            "Epoch 153/200\n",
            "34/34 [==============================] - 0s 2ms/step - loss: 9804.6260 - mae: 9804.6260\n",
            "Epoch 154/200\n",
            "34/34 [==============================] - 0s 2ms/step - loss: 9494.6895 - mae: 9494.6895\n",
            "Epoch 155/200\n",
            "34/34 [==============================] - 0s 2ms/step - loss: 10301.4248 - mae: 10301.4248\n",
            "Epoch 156/200\n",
            "34/34 [==============================] - 0s 2ms/step - loss: 9986.6709 - mae: 9986.6709\n",
            "Epoch 157/200\n",
            "34/34 [==============================] - 0s 2ms/step - loss: 9558.2979 - mae: 9558.2979\n",
            "Epoch 158/200\n",
            "34/34 [==============================] - 0s 2ms/step - loss: 10873.1377 - mae: 10873.1377\n",
            "Epoch 159/200\n",
            "34/34 [==============================] - 0s 2ms/step - loss: 10018.0918 - mae: 10018.0918\n",
            "Epoch 160/200\n",
            "34/34 [==============================] - 0s 2ms/step - loss: 9188.2012 - mae: 9188.2012\n",
            "Epoch 161/200\n",
            "34/34 [==============================] - 0s 2ms/step - loss: 10188.3877 - mae: 10188.3877\n",
            "Epoch 162/200\n",
            "34/34 [==============================] - 0s 3ms/step - loss: 9750.7002 - mae: 9750.7002\n",
            "Epoch 163/200\n",
            "34/34 [==============================] - 0s 2ms/step - loss: 9544.9775 - mae: 9544.9775\n",
            "Epoch 164/200\n",
            "34/34 [==============================] - 0s 2ms/step - loss: 9152.0479 - mae: 9152.0479\n",
            "Epoch 165/200\n",
            "34/34 [==============================] - 0s 2ms/step - loss: 10390.6201 - mae: 10390.6201\n",
            "Epoch 166/200\n",
            "34/34 [==============================] - 0s 2ms/step - loss: 9497.9746 - mae: 9497.9746\n",
            "Epoch 167/200\n",
            "34/34 [==============================] - 0s 3ms/step - loss: 9756.2822 - mae: 9756.2822\n",
            "Epoch 168/200\n",
            "34/34 [==============================] - 0s 2ms/step - loss: 9837.3525 - mae: 9837.3525\n",
            "Epoch 169/200\n",
            "34/34 [==============================] - 0s 2ms/step - loss: 9372.3643 - mae: 9372.3643\n",
            "Epoch 170/200\n",
            "34/34 [==============================] - 0s 3ms/step - loss: 9154.3164 - mae: 9154.3164\n",
            "Epoch 171/200\n",
            "34/34 [==============================] - 0s 2ms/step - loss: 9405.1484 - mae: 9405.1484\n",
            "Epoch 172/200\n",
            "34/34 [==============================] - 0s 2ms/step - loss: 9547.2344 - mae: 9547.2344\n",
            "Epoch 173/200\n",
            "34/34 [==============================] - 0s 2ms/step - loss: 9591.4619 - mae: 9591.4619\n",
            "Epoch 174/200\n",
            "34/34 [==============================] - 0s 2ms/step - loss: 9949.1377 - mae: 9949.1377\n",
            "Epoch 175/200\n",
            "34/34 [==============================] - 0s 2ms/step - loss: 9649.5439 - mae: 9649.5439\n",
            "Epoch 176/200\n",
            "34/34 [==============================] - 0s 2ms/step - loss: 10124.2422 - mae: 10124.2422\n",
            "Epoch 177/200\n",
            "34/34 [==============================] - 0s 2ms/step - loss: 9728.4775 - mae: 9728.4775\n",
            "Epoch 178/200\n",
            "34/34 [==============================] - 0s 2ms/step - loss: 9734.5547 - mae: 9734.5547\n",
            "Epoch 179/200\n",
            "34/34 [==============================] - 0s 2ms/step - loss: 9678.6758 - mae: 9678.6758\n",
            "Epoch 180/200\n",
            "34/34 [==============================] - 0s 3ms/step - loss: 9461.1240 - mae: 9461.1240\n",
            "Epoch 181/200\n",
            "34/34 [==============================] - 0s 2ms/step - loss: 10467.9414 - mae: 10467.9414\n",
            "Epoch 182/200\n",
            "34/34 [==============================] - 0s 2ms/step - loss: 9598.3330 - mae: 9598.3330\n",
            "Epoch 183/200\n",
            "34/34 [==============================] - 0s 2ms/step - loss: 10358.2031 - mae: 10358.2031\n",
            "Epoch 184/200\n",
            "34/34 [==============================] - 0s 3ms/step - loss: 9662.2393 - mae: 9662.2393\n",
            "Epoch 185/200\n",
            "34/34 [==============================] - 0s 2ms/step - loss: 9914.9795 - mae: 9914.9795\n",
            "Epoch 186/200\n",
            "34/34 [==============================] - 0s 2ms/step - loss: 10052.8027 - mae: 10052.8027\n",
            "Epoch 187/200\n",
            "34/34 [==============================] - 0s 2ms/step - loss: 9367.1289 - mae: 9367.1289\n",
            "Epoch 188/200\n",
            "34/34 [==============================] - 0s 2ms/step - loss: 9759.2871 - mae: 9759.2871\n",
            "Epoch 189/200\n",
            "34/34 [==============================] - 0s 2ms/step - loss: 9477.6465 - mae: 9477.6465\n",
            "Epoch 190/200\n",
            "34/34 [==============================] - 0s 2ms/step - loss: 9973.9180 - mae: 9973.9180\n",
            "Epoch 191/200\n",
            "34/34 [==============================] - 0s 3ms/step - loss: 9182.0664 - mae: 9182.0664\n",
            "Epoch 192/200\n",
            "34/34 [==============================] - 0s 2ms/step - loss: 11238.0752 - mae: 11238.0752\n",
            "Epoch 193/200\n",
            "34/34 [==============================] - 0s 3ms/step - loss: 8978.6807 - mae: 8978.6807\n",
            "Epoch 194/200\n",
            "34/34 [==============================] - 0s 3ms/step - loss: 9180.7422 - mae: 9180.7422\n",
            "Epoch 195/200\n",
            "34/34 [==============================] - 0s 2ms/step - loss: 9301.4346 - mae: 9301.4346\n",
            "Epoch 196/200\n",
            "34/34 [==============================] - 0s 2ms/step - loss: 10529.9658 - mae: 10529.9658\n",
            "Epoch 197/200\n",
            "34/34 [==============================] - 0s 2ms/step - loss: 10150.3975 - mae: 10150.3975\n",
            "Epoch 198/200\n",
            "34/34 [==============================] - 0s 2ms/step - loss: 10106.9229 - mae: 10106.9229\n",
            "Epoch 199/200\n",
            "34/34 [==============================] - 0s 2ms/step - loss: 10134.7812 - mae: 10134.7812\n",
            "Epoch 200/200\n",
            "34/34 [==============================] - 0s 2ms/step - loss: 9434.9893 - mae: 9434.9893\n"
          ]
        },
        {
          "output_type": "execute_result",
          "data": {
            "text/plain": [
              "<keras.callbacks.History at 0x7f2c2a3e6790>"
            ]
          },
          "metadata": {},
          "execution_count": 42
        }
      ]
    },
    {
      "cell_type": "code",
      "source": [
        "insurance_model.evaluate(X_test,y_test)"
      ],
      "metadata": {
        "colab": {
          "base_uri": "https://localhost:8080/"
        },
        "id": "Ets0rwT-Kjom",
        "outputId": "f54739a4-b90d-4e29-bb6f-228614fbfe33"
      },
      "execution_count": null,
      "outputs": [
        {
          "output_type": "stream",
          "name": "stdout",
          "text": [
            "9/9 [==============================] - 0s 2ms/step - loss: 8955.5996 - mae: 8955.5996\n"
          ]
        },
        {
          "output_type": "execute_result",
          "data": {
            "text/plain": [
              "[8955.599609375, 8955.599609375]"
            ]
          },
          "metadata": {},
          "execution_count": 43
        }
      ]
    },
    {
      "cell_type": "code",
      "source": [
        "tf.random.set_seed(42)\n",
        "\n",
        "insurance_model2 = tf.keras.Sequential([\n",
        "    tf.keras.layers.Dense(100),\n",
        "    tf.keras.layers.Dense(10),\n",
        "    tf.keras.layers.Dense(1)\n",
        "    ])\n",
        "\n",
        "insurance_model2.compile(loss=tf.keras.losses.mae,\n",
        "                        optimizer = tf.keras.optimizers.Adam(),\n",
        "                        metrics=[\"mae\"])\n",
        "\n",
        "logs =insurance_model2.fit(tf.expand_dims(X_train, axis=-1), y_train, epochs=70)"
      ],
      "metadata": {
        "id": "pWEbfI9cLKpa"
      },
      "execution_count": null,
      "outputs": []
    },
    {
      "cell_type": "code",
      "source": [
        "pd.DataFrame(logs.history).plot()\n",
        "plt.ylabel(\"loss\")\n",
        "plt.xlabel(\"epochs\")"
      ],
      "metadata": {
        "colab": {
          "base_uri": "https://localhost:8080/",
          "height": 296
        },
        "id": "e0iDi-o-MHvU",
        "outputId": "8551227a-2305-45df-894e-319944c9799b"
      },
      "execution_count": null,
      "outputs": [
        {
          "output_type": "execute_result",
          "data": {
            "text/plain": [
              "Text(0.5, 0, 'epochs')"
            ]
          },
          "metadata": {},
          "execution_count": 46
        },
        {
          "output_type": "display_data",
          "data": {
            "text/plain": [
              "<Figure size 432x288 with 1 Axes>"
            ],
            "image/png": "[encoded data removed]"
          },
          "metadata": {
            "needs_background": "light"
          }
        }
      ]
    },
    {
      "cell_type": "code",
      "source": [],
      "metadata": {
        "id": "-X-j131D-3WO"
      },
      "execution_count": null,
      "outputs": []
    }
  ]
}